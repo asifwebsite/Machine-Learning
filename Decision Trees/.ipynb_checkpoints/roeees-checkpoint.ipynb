{
 "cells": [
  {
   "cell_type": "markdown",
   "metadata": {
    "id": "zXmD1vH3cx5j",
    "nbgrader": {
     "grade": false,
     "grade_id": "cell-6bd0516e7cb654f5",
     "locked": true,
     "schema_version": 1,
     "solution": false
    }
   },
   "source": [
    "# Exercise 2: Decision Trees\n",
    "\n",
    "In this assignment you will implement a Decision Tree algorithm as learned in class.\n",
    "\n",
    "## Read the following instructions carefully:\n",
    "\n",
    "1. This jupyter notebook contains all the step by step instructions needed for this exercise.\n",
    "1. Submission includes this notebook only with the exercise number and your ID as the filename. For example: `hw2_123456789_987654321.ipynb` if you submitted in pairs and `hw2_123456789.ipynb` if you submitted the exercise alone.\n",
    "1. Write **efficient vectorized** code whenever possible. Some calculations in this exercise take several minutes when implemented efficiently, and might take much longer otherwise. Unnecessary loops will result in point deduction.\n",
    "1. You are responsible for the correctness of your code and should add as many tests as you see fit. Tests will not be graded nor checked.\n",
    "1. Write your functions in this notebook only. **Do not create Python modules and import them**.\n",
    "1. You are allowed to use functions and methods from the [Python Standard Library](https://docs.python.org/3/library/) and [numpy](https://www.numpy.org/devdocs/reference/) only. **Do not import anything else.**\n",
    "1. Your code must run without errors. Make sure your `numpy` version is at least 1.15.4 and that you are using at least python 3.6. Changes of the configuration we provided are at your own risk. Any code that cannot run will not be graded.\n",
    "1. Write your own code. Cheating will not be tolerated.\n",
    "1. Answers to qualitative questions should be written in **markdown** cells (with $\\LaTeX$ support). Answers that will be written in commented code blocks will not be checked.\n",
    "\n",
    "## In this exercise you will perform the following:\n",
    "1. Practice OOP in python.\n",
    "2. Implement two impurity measures: Gini and Entropy.\n",
    "3. Construct a decision tree algorithm.\n",
    "4. Prune the tree to achieve better results.\n",
    "5. Visualize your results."
   ]
  },
  {
   "cell_type": "markdown",
   "metadata": {
    "id": "v1xpicrMcx5n"
   },
   "source": [
    "# I have read and understood the instructions:\n",
    "# Roee Milo: 319091690\n",
    "# Amit Butnik: 318988409"
   ]
  },
  {
   "cell_type": "code",
   "execution_count": 1,
   "metadata": {
    "id": "6YvCw0HKcx5o",
    "nbgrader": {
     "grade": false,
     "grade_id": "cell-ed9fe7b1026e33cb",
     "locked": true,
     "schema_version": 1,
     "solution": false
    }
   },
   "outputs": [],
   "source": [
    "import numpy as np\n",
    "import pandas as pd\n",
    "import matplotlib.pyplot as plt\n",
    "\n",
    "# make matplotlib figures appear inline in the notebook\n",
    "%matplotlib inline\n",
    "plt.rcParams['figure.figsize'] = (10.0, 8.0) # set default size of plots\n",
    "plt.rcParams['image.interpolation'] = 'nearest'\n",
    "plt.rcParams['image.cmap'] = 'gray'\n",
    "\n",
    "# Ignore warnings\n",
    "import warnings\n",
    "warnings.filterwarnings('ignore')"
   ]
  },
  {
   "cell_type": "markdown",
   "metadata": {
    "id": "pQ1t22jkcx5p",
    "nbgrader": {
     "grade": false,
     "grade_id": "cell-c6ac605270c2b091",
     "locked": true,
     "schema_version": 1,
     "solution": false
    }
   },
   "source": [
    "## Warmup - OOP in python\n",
    "\n",
    "Our desicion tree will be implemented using a dedicated python class. Python classes are very similar to classes in Java.\n",
    "\n",
    "\n",
    "You can use the following [site](https://jeffknupp.com/blog/2014/06/18/improve-your-python-python-classes-and-object-oriented-programming/) to learn about classes in python."
   ]
  },
  {
   "cell_type": "code",
   "execution_count": 2,
   "metadata": {
    "id": "czVGlEiNcx5q"
   },
   "outputs": [],
   "source": [
    "class Node(object):\n",
    "    def __init__(self):\n",
    "        self.data = None\n",
    "        self.children = []\n",
    "\n",
    "    def add_data(self,data):\n",
    "        self.data = data\n",
    "\n",
    "    def add_child(self, node):\n",
    "        self.children.append(node)"
   ]
  },
  {
   "cell_type": "code",
   "execution_count": 3,
   "metadata": {
    "colab": {
     "base_uri": "https://localhost:8080/"
    },
    "id": "6vP7-cRDcx5q",
    "outputId": "43ef9d21-190f-48f6-cb10-a3cc78a1b52c"
   },
   "outputs": [
    {
     "name": "stdout",
     "output_type": "stream",
     "text": [
      "5\n"
     ]
    }
   ],
   "source": [
    "n = Node()\n",
    "n.add_data(5)\n",
    "p = Node()\n",
    "q = Node()\n",
    "n.add_child(p)\n",
    "n.add_child(q)\n",
    "#n.children\n",
    "print (n.data)"
   ]
  },
  {
   "cell_type": "markdown",
   "metadata": {
    "id": "faOt5kPEcx5r",
    "nbgrader": {
     "grade": false,
     "grade_id": "cell-2f1ceb251c649b62",
     "locked": true,
     "schema_version": 1,
     "solution": false
    }
   },
   "source": [
    "## Data preprocessing\n",
    "\n",
    "For the following exercise, we will use a dataset containing mushroom data `agaricus-lepiota.csv`. \n",
    "\n",
    "This data set includes descriptions of hypothetical samples corresponding to 23 species of gilled mushrooms in the Agaricus and Lepiota Family. Each species is identified as definitely edible, definitely poisonous, or of unknown edibility and not recommended. This latter class was combined with the poisonous\n",
    "one (=there are only two classes **edible** and **poisonous**). \n",
    "    \n",
    "The dataset contains 8124 observations with 22 features:\n",
    "1. cap-shape: bell=b,conical=c,convex=x,flat=f,knobbed=k,sunken=s\n",
    "2. cap-surface: fibrous=f,grooves=g,scaly=y,smooth=s\n",
    "3. cap-color: brown=n,buff=b,cinnamon=c,gray=g,green=r,pink=p,purple=u,red=e,white=w,yellow=y\n",
    "4. bruises: bruises=t,no=f\n",
    "5. odor: almond=a,anise=l,creosote=c,fishy=y,foul=f, musty=m,none=n,pungent=p,spicy=s\n",
    "6. gill-attachment: attached=a,descending=d,free=f,notched=n\n",
    "7. gill-spacing: close=c,crowded=w,distant=d\n",
    "8. gill-size: broad=b,narrow=n\n",
    "9. gill-color: black=k,brown=n,buff=b,chocolate=h,gray=g,green=r,orange=o,pink=p,purple=u,red=e,white=w,yellow=y\n",
    "10. stalk-shape: enlarging=e,tapering=t\n",
    "11. stalk-root: bulbous=b,club=c,cup=u,equal=e,rhizomorphs=z,rooted=r\n",
    "12. stalk-surface-above-ring: fibrous=f,scaly=y,silky=k,smooth=s\n",
    "13. stalk-surface-below-ring: fibrous=f,scaly=y,silky=k,smooth=s\n",
    "14. stalk-color-above-ring: brown=n,buff=b,cinnamon=c,gray=g,orange=o,pink=p,red=e,white=w,yellow=y\n",
    "15. stalk-color-below-ring: brown=n,buff=b,cinnamon=c,gray=g,orange=o,pink=p,red=e,white=w,yellow=y\n",
    "16. veil-type: partial=p,universal=u\n",
    "17. veil-color: brown=n,orange=o,white=w,yellow=y\n",
    "18. ring-number: none=n,one=o,two=t\n",
    "19. ring-type: cobwebby=c,evanescent=e,flaring=f,large=l,none=n,pendant=p,sheathing=s,zone=z\n",
    "20. spore-print-color: black=k,brown=n,buff=b,chocolate=h,green=r,orange=o,purple=u,white=w,yellow=y\n",
    "21. population: abundant=a,clustered=c,numerous=n,scattered=s,several=v,solitary=y\n",
    "22. habitat: grasses=g,leaves=l,meadows=m,paths=p,urban=u,waste=w,woods=d\n",
    "\n",
    "First, we will read and explore the data using pandas and the `.read_csv` method. Pandas is an open source library providing high-performance, easy-to-use data structures and data analysis tools for the Python programming language."
   ]
  },
  {
   "cell_type": "code",
   "execution_count": 4,
   "metadata": {
    "id": "Yr4U0UHecx5s",
    "nbgrader": {
     "grade": false,
     "grade_id": "cell-d79cb4542926ad3f",
     "locked": true,
     "schema_version": 1,
     "solution": false
    }
   },
   "outputs": [],
   "source": [
    "# load dataset\n",
    "data = pd.read_csv('agaricus-lepiota.csv')"
   ]
  },
  {
   "cell_type": "markdown",
   "metadata": {
    "id": "cbHtS3IYcx5s"
   },
   "source": [
    "One of the advantages of the Decision Tree algorithm is that almost no preprocessing is required. However, finding missing values is always required."
   ]
  },
  {
   "cell_type": "code",
   "execution_count": 5,
   "metadata": {
    "id": "Y9WT5Q5zcx5t"
   },
   "outputs": [],
   "source": [
    "#############################################################################\n",
    "# TODO: Find columns with missing values and remove them from the data.#\n",
    "#############################################################################\n",
    "data = data.dropna(axis=1)\n"
   ]
  },
  {
   "cell_type": "markdown",
   "metadata": {
    "id": "m3rtUH73cx5t"
   },
   "source": [
    "We will split the dataset to `Training` and `Testing` datasets."
   ]
  },
  {
   "cell_type": "code",
   "execution_count": 6,
   "metadata": {
    "colab": {
     "base_uri": "https://localhost:8080/"
    },
    "id": "fUWuXxT7cx5w",
    "outputId": "d6f9a28f-6ef0-458b-ba2f-347f7d62a4ed"
   },
   "outputs": [
    {
     "name": "stdout",
     "output_type": "stream",
     "text": [
      "Training dataset shape:  (6093, 22)\n",
      "Testing dataset shape:  (2031, 22)\n"
     ]
    }
   ],
   "source": [
    "from sklearn.model_selection import train_test_split\n",
    "# Making sure the last column will hold the labels\n",
    "X, y = data.drop('class', axis=1), data['class']\n",
    "X = np.column_stack([X,y])\n",
    "# split dataset using random_state to get the same split each time\n",
    "X_train, X_test = train_test_split(X, random_state=99)\n",
    "\n",
    "print(\"Training dataset shape: \", X_train.shape)\n",
    "print(\"Testing dataset shape: \", X_test.shape)"
   ]
  },
  {
   "cell_type": "markdown",
   "metadata": {
    "id": "TOTeW3w0cx5x",
    "nbgrader": {
     "grade": false,
     "grade_id": "cell-fd7b0191f3f1e897",
     "locked": true,
     "schema_version": 1,
     "solution": false
    }
   },
   "source": [
    "## Impurity Measures\n",
    "\n",
    "Impurity is a measure of how often a randomly chosen element from the set would be incorrectly labeled if it was randomly labeled according to the distribution of labels in the subset. Implement the functions `calc_gini` and `calc_entropy`. You are encouraged to test your implementation (10 points)."
   ]
  },
  {
   "cell_type": "code",
   "execution_count": 7,
   "metadata": {
    "id": "RLH-Hfb0pp1l"
   },
   "outputs": [],
   "source": [
    "def find_keys_and_values_of_feature(data,feature_index):    #useful helper function\n",
    "  labels = data[:,feature_index]\n",
    "  classes = {}\n",
    "  for label in labels:                        # find all values and their number of appirences of a given feature\n",
    "    if label in classes.keys():\n",
    "      classes[label] = classes[label] +1\n",
    "    else:\n",
    "      classes[label] = 1\n",
    "  return classes"
   ]
  },
  {
   "cell_type": "code",
   "execution_count": 8,
   "metadata": {
    "colab": {
     "base_uri": "https://localhost:8080/"
    },
    "id": "3fdE_4qOgPoi",
    "outputId": "734f59b0-b7c2-4a8c-a13d-dad994affc6d"
   },
   "outputs": [
    {
     "name": "stdout",
     "output_type": "stream",
     "text": [
      "{'p': 3942, 'e': 4182}\n"
     ]
    }
   ],
   "source": [
    "classsss = find_keys_and_values_of_feature(X,-1)\n",
    "print (classsss)"
   ]
  },
  {
   "cell_type": "code",
   "execution_count": 9,
   "metadata": {
    "id": "Jx0HjloIcx5x"
   },
   "outputs": [],
   "source": [
    "def calc_gini(data):\n",
    "    \"\"\"\n",
    "    Calculate gini impurity measure of a dataset.\n",
    " \n",
    "    Input:\n",
    "    - data: any dataset where the last column holds the labels.\n",
    " \n",
    "    Returns the gini impurity.    \n",
    "    \"\"\"\n",
    "    gini = 1.0\n",
    "    numOfSamples = len(data)\n",
    "    classes = find_keys_and_values_of_feature(data,-1)\n",
    "\n",
    "    for label in classes.keys():\n",
    "      gini = gini - ((classes[label]/numOfSamples)**2)\n",
    "\n",
    "\n",
    "    return gini"
   ]
  },
  {
   "cell_type": "code",
   "execution_count": 10,
   "metadata": {
    "id": "sbdFwISpcx5x"
   },
   "outputs": [],
   "source": [
    "def calc_entropy(data):\n",
    "    \"\"\"\n",
    "    Calculate the entropy of a dataset.\n",
    "\n",
    "    Input:\n",
    "    - data: any dataset where the last column holds the labels.\n",
    "\n",
    "    Returns the entropy of the dataset.    \n",
    "    \"\"\"\n",
    "    entropy = 0.0\n",
    "    numOfSamples = len(data)\n",
    "    classes = find_keys_and_values_of_feature(data,-1)\n",
    "\n",
    "    for label in classes.keys():\n",
    "      P = classes[label]/numOfSamples\n",
    "      result = P*(np.log2(P))\n",
    "      entropy = entropy - result\n",
    "\n",
    "    return entropy"
   ]
  },
  {
   "cell_type": "code",
   "execution_count": 11,
   "metadata": {
    "colab": {
     "base_uri": "https://localhost:8080/"
    },
    "id": "gtRmlmC0cx5y",
    "outputId": "f8223061-7867-486b-8fab-2f3f4b11cd41",
    "scrolled": true
   },
   "outputs": [
    {
     "name": "stdout",
     "output_type": "stream",
     "text": [
      "0.4995636322379775\n",
      "0.9993703627906085\n"
     ]
    }
   ],
   "source": [
    "##### Your Tests Here #####\n",
    "print(calc_gini(X))\n",
    "print(calc_entropy(X))"
   ]
  },
  {
   "cell_type": "markdown",
   "metadata": {
    "id": "sNfHM4A6cx5y"
   },
   "source": [
    "## Goodness of Split\n",
    "\n",
    "Given a feature the Goodnees of Split measures the reduction in the impurity if we split the data according to the feature.\n",
    "$$\n",
    "\\Delta\\varphi(S, A) = \\varphi(S) - \\sum_{v\\in Values(A)} \\frac{|S_v|}{|S|}\\varphi(S_v)\n",
    "$$\n",
    "\n",
    "In our implementation the goodness_of_split function will return either the Goodness of Split or the Gain Ratio as learned in class. You'll control the return value with the `gain_ratio` parameter. If this parameter will set to False (the default value) it will return the regular Goodness of Split. If it will set to True it will return the Gain Ratio.\n",
    "$$\n",
    "GainRatio(S,A)=\\frac{InformationGain(S,A)}{SplitInformation(S,A)}\n",
    "$$\n",
    "Where:\n",
    "$$\n",
    "InformationGain(S,A)=Goodness\\ of\\ Split\\ calculated\\ with\\ Entropy\\ as\\ the\\ Impurity\\ function \\\\\n",
    "SplitInformation(S,A)=- \\sum_{a\\in A} \\frac{|S_a|}{|S|}\\log\\frac{|S_a|}{|S|}\n",
    "$$\n",
    "NOTE: you can add more parameters to the function and you can also add more returning variables (The given parameters and the given returning variable should not be touch). (10 Points)"
   ]
  },
  {
   "cell_type": "code",
   "execution_count": 12,
   "metadata": {
    "colab": {
     "base_uri": "https://localhost:8080/"
    },
    "id": "ANhrnzawmDx9",
    "outputId": "16471542-9414-4c90-dbf5-66e7ef4f2d66"
   },
   "outputs": [
    {
     "name": "stdout",
     "output_type": "stream",
     "text": [
      "[[1 2 3]\n",
      " [4 5 6]\n",
      " [7 8 6]]\n",
      "#######\n",
      "[[4 5 6]]\n"
     ]
    }
   ],
   "source": [
    "arr = np.array([[1,2,3],[4,5,6],[7,8,6]])\n",
    "print (arr)\n",
    "print ('#######')\n",
    "new_arr = arr[arr[:,1] == 5]\n",
    "print (new_arr)"
   ]
  },
  {
   "cell_type": "code",
   "execution_count": 13,
   "metadata": {
    "id": "dZnziKmg2f9m"
   },
   "outputs": [],
   "source": [
    "def split_in_formation(data,feature) :\n",
    "    sif = 0.0\n",
    "    numOfSamples = len(data)\n",
    "    values = find_keys_and_values_of_feature(data,feature)\n",
    "\n",
    "    for label in values.keys():\n",
    "      P = values[label]/numOfSamples\n",
    "      result = P*(np.log2(P))\n",
    "      sif = sif - result\n",
    "\n",
    "    return sif"
   ]
  },
  {
   "cell_type": "code",
   "execution_count": 14,
   "metadata": {
    "id": "E7nOU2ZN4gY4"
   },
   "outputs": [],
   "source": [
    "def gini_OR_information_gain(data,feature,impurity_func):\n",
    "\n",
    "  impurity_before_split = impurity_func(data)\n",
    "  goodness = impurity_before_split\n",
    "######################################################  \n",
    "\n",
    "  numOfSamples = len(data)\n",
    "  values_dict = find_keys_and_values_of_feature(data,feature)   #create dict of number of appirences for each value\n",
    "  samples_dict = {}   #create dict of samples array for each value\n",
    "\n",
    "  for value in values_dict.keys():\n",
    "    samples_dict[value] = data[data[:,feature] == value]\n",
    "  \n",
    "#######################################################  \n",
    "\n",
    "  impurity_dict = {}    #create dict of impurity for each value array\n",
    "\n",
    "  for key in samples_dict.keys():\n",
    "    impurity_by_value = impurity_func(samples_dict[key])\n",
    "    impurity_dict[key] = impurity_by_value\n",
    "\n",
    "#######################################################\n",
    "\n",
    "  for key in impurity_dict.keys():\n",
    "    phi_impurity = impurity_dict[key]\n",
    "    ratio = values_dict[key]/numOfSamples\n",
    "    goodness = goodness - (ratio*phi_impurity)\n",
    "\n",
    "  return goodness"
   ]
  },
  {
   "cell_type": "code",
   "execution_count": 15,
   "metadata": {
    "id": "RpAFaJv5cx5y"
   },
   "outputs": [],
   "source": [
    "def goodness_of_split(data, feature, impurity_func, gain_ratio=False):\n",
    "    \"\"\"\n",
    "    Calculate the goodness of split of a dataset given a feature and impurity function.\n",
    "\n",
    "    Input:\n",
    "    - data: any dataset where the last column holds the labels.\n",
    "    - feature: the feature index.\n",
    "    - impurity func: a function that calculates the impurity.\n",
    "    - gain_ratio: goodness of split or gain ratio flag.\n",
    "\n",
    "    Returns the goodness of split (or the Gain Ration).  \n",
    "    \"\"\"\n",
    "    if (not gain_ratio):\n",
    "      goodness = gini_OR_information_gain(data,feature,impurity_func)\n",
    "\n",
    "    else:\n",
    "      goodness = gini_OR_information_gain(data,feature,calc_entropy)\n",
    "      sif = split_in_formation(data,feature)\n",
    "      goodness = goodness/sif\n",
    "\n",
    "    return goodness    "
   ]
  },
  {
   "cell_type": "code",
   "execution_count": 16,
   "metadata": {
    "colab": {
     "base_uri": "https://localhost:8080/",
     "height": 235
    },
    "id": "3U15TGkNTxqR",
    "outputId": "bfb0c116-60d4-44c5-9ea9-0f3e5d279e27"
   },
   "outputs": [
    {
     "name": "stdout",
     "output_type": "stream",
     "text": [
      "0.018905382603704057\n",
      "0.011999711708812413\n",
      "0.012857297848884841\n"
     ]
    }
   ],
   "source": [
    "goodness = goodness_of_split(X,1,calc_entropy,False)\n",
    "print (goodness)\n",
    "goodness = goodness_of_split(X,1,calc_entropy,True)\n",
    "print (goodness)\n",
    "goodness = goodness_of_split(X,1,calc_gini,False)\n",
    "print (goodness)"
   ]
  },
  {
   "cell_type": "markdown",
   "metadata": {
    "id": "u01ZGkaPcx5z"
   },
   "source": [
    "## Building a Decision Tree\n",
    "\n",
    "Use a Python class to construct the decision tree. Your class should support the following functionality:\n",
    "\n",
    "1. Initiating a node for a decision tree. You will need to use several class methods and class attributes and you are free to use them as you see fit. We recommend that every node will hold the feature and value used for the split and its children.\n",
    "2. Your code should support both Gini and Entropy as impurity measures. \n",
    "3. The provided data includes categorical data. In this exercise, when splitting a node create the number of children needed according to the attribute unique values.\n",
    "\n",
    "Complete the class `DecisionNode`. The structure of this class is entirely up to you. \n",
    "\n",
    "Complete the function `build_tree`. This function should get the training dataset and the impurity as inputs, initiate a root for the decision tree and construct the tree according to the procedure you learned in class. (30 points)"
   ]
  },
  {
   "cell_type": "code",
   "execution_count": 17,
   "metadata": {
    "id": "AV0u6zDhw40m"
   },
   "outputs": [],
   "source": [
    "class DecisionNode:\n",
    "    \"\"\"\n",
    "    This class will hold everything you require to construct a decision tree.\n",
    "    The structure of this class is up to you. However, you need to support basic \n",
    "    functionality as described above. It is highly recommended that you \n",
    "    first read and understand the entire exercise before diving into this class.\n",
    "    \"\"\"\n",
    "    def __init__(self):\n",
    "        self.feature = None # column index of criteria being tested\n",
    "        self.children = {}\n",
    "        self.samples = None\n",
    "        self.parent = None\n",
    "        self.remain_features = []\n",
    "        self.category = None # the majority class in the samples array\n",
    "        self.hight = 0\n",
    "\n",
    "    def detrmine_best_feature(self, impurity, gain_ratio):\n",
    "        features_goodness = {}\n",
    "        for feature in self.remain_features:\n",
    "          features_goodness[feature] = goodness_of_split(self.samples, feature, impurity, gain_ratio)\n",
    "        self.feature = max(features_goodness, key=features_goodness.get)\n",
    "\n",
    "        \n",
    "    def create_child(self, value, child_node):\n",
    "        self.children[value] = child_node     #concate children to current node\n",
    "\n",
    "        child_node.samples = self.samples[self.samples[:,self.feature] == value]\n",
    "\n",
    "        child_node.remain_features = self.remain_features.copy()    #create children's remain feature list\n",
    "        child_node.remain_features.remove(self.feature)\n",
    "\n",
    "        child_node.hight = self.hight +1\n",
    "\n",
    "\n",
    "    def determine_category(self):                                   #find the majority class of node's samples array\n",
    "      Node_classes = find_keys_and_values_of_feature(self.samples,-1)\n",
    "      self.category = max(Node_classes, key=Node_classes.get)\n",
    "\n",
    "    def root_init_samples(self,all_samples):\n",
    "      self.samples = all_samples\n",
    "    \n",
    "    def root_init_remain_features(self,all_features):\n",
    "      self.remain_features = all_features\n",
    "\n",
    "\n",
    "    def check_if_pure(self):                                            #node is pure if he has only one class\n",
    "      Node_classes = find_keys_and_values_of_feature(self.samples,-1)\n",
    "      if (len(Node_classes) == 1):\n",
    "        return True\n",
    "      else:\n",
    "        return False\n",
    "\n",
    "\n",
    "    def check_if_max_depth(self,max_depth):\n",
    "      if (self.hight >= max_depth):\n",
    "        return True\n",
    "      else:\n",
    "        return False\n",
    "\n",
    "\n",
    "    def check_if_min_samples(self,min_samples):\n",
    "      numOfSamples = len(self.samples)\n",
    "      if (numOfSamples <= min_samples):\n",
    "        return True\n",
    "      else:\n",
    "        return False"
   ]
  },
  {
   "cell_type": "code",
   "execution_count": 18,
   "metadata": {
    "id": "rG4EWxlWxCbK"
   },
   "outputs": [],
   "source": [
    "def build_tree(data, impurity, gain_ratio=False, min_samples_split=1, max_depth=1000):\n",
    "    \"\"\"\n",
    "    Build a tree using the given impurity measure and training dataset. \n",
    "    You are required to fully grow the tree until all leaves are pure. \n",
    "\n",
    "    Input:\n",
    "    - data: the training dataset.\n",
    "    - impurity: the chosen impurity measure. Notice that you can send a function\n",
    "                as an argument in python.\n",
    "    - gain_ratio: goodness of split or gain ratio flag\n",
    "    - min_samples_split: the minimum number of samples required to split an internal node\n",
    "    - max_depth: the allowable depth of the tree\n",
    "\n",
    "    Output: the root node of the tree.\n",
    "    \"\"\"\n",
    "    ROOT = DecisionNode()                                             #initialize the root node \n",
    "    ROOT.root_init_samples(data)\n",
    "    ROOT.root_init_remain_features(list(range(data.shape[1] -1)))     #the features is recognized by their index in the data\n",
    "    Queue = []\n",
    "    Queue.append(ROOT)\n",
    "\n",
    "    while (len(Queue) > 0):                                           #grouth the tree\n",
    "      Node = Queue.pop(0)\n",
    "      Node.determine_category()\n",
    "                                                                      #stop conditions\n",
    "      if (Node.check_if_pure()):\n",
    "        continue\n",
    "\n",
    "      if (Node.check_if_max_depth(max_depth)):\n",
    "        continue\n",
    "\n",
    "      if (Node.check_if_min_samples(min_samples_split)):\n",
    "        continue\n",
    "                                                                      #splitting the node\n",
    "      Node.detrmine_best_feature(impurity,gain_ratio)\n",
    "      Node_feature_values = find_keys_and_values_of_feature(Node.samples,Node.feature)\n",
    "      for value in Node_feature_values.keys():                        \n",
    "        child_Node = DecisionNode()\n",
    "        Node.create_child(value,child_Node)\n",
    "        Queue.append(child_Node)\n",
    "\n",
    "    return ROOT"
   ]
  },
  {
   "cell_type": "code",
   "execution_count": 19,
   "metadata": {
    "id": "Z2u6sGKVcx5z"
   },
   "outputs": [],
   "source": [
    "# python supports passing a function as an argument to another function.\n",
    "tree_gini = build_tree(data=X_train, impurity=calc_gini) # gini and goodness of split\n",
    "tree_entropy = build_tree(data=X_train, impurity=calc_entropy) # entropy and goodness of split\n",
    "tree_entropy_gain_ratio = build_tree(data=X_train, impurity=calc_entropy, gain_ratio=True) # entropy and gain ratio"
   ]
  },
  {
   "cell_type": "markdown",
   "metadata": {
    "id": "4V5CYWfScx50"
   },
   "source": [
    "## Tree evaluation\n",
    "\n",
    "Complete the functions `predict` and `calc_accuracy`. (10 points)"
   ]
  },
  {
   "cell_type": "code",
   "execution_count": 20,
   "metadata": {
    "id": "JzMlNG7mcx50"
   },
   "outputs": [],
   "source": [
    "def predict(node, instance):\n",
    "    \"\"\"\n",
    "    Predict a given instance using the decision tree\n",
    " \n",
    "    Input:\n",
    "    - root: the root of the decision tree.\n",
    "    - instance: an row vector from the dataset. Note that the last element \n",
    "                of this vector is the label of the instance.\n",
    " \n",
    "    Output: the prediction of the instance.\n",
    "    \"\"\"\n",
    "    pred = None\n",
    "\n",
    "    current_node = node\n",
    "                                                        #travels the tree until we've got to a leaf or to a dead end (no fit value for current node)\n",
    "    while (current_node.feature != None):\n",
    "      instance_value = instance[current_node.feature]\n",
    "      if not (instance_value in current_node.children.keys()):\n",
    "        break\n",
    "      current_node = current_node.children[instance_value]\n",
    "    \n",
    "    pred = current_node.category\n",
    "\n",
    "    return pred"
   ]
  },
  {
   "cell_type": "code",
   "execution_count": 21,
   "metadata": {
    "id": "2dGbcy9Ucx50"
   },
   "outputs": [],
   "source": [
    "def calc_accuracy(node, dataset):\n",
    "    \"\"\"\n",
    "    Predict a given dataset using the decision tree\n",
    " \n",
    "    Input:\n",
    "    - node: a node in the decision tree.\n",
    "    - dataset: the dataset on which the accuracy is evaluated\n",
    " \n",
    "    Output: the accuracy of the decision tree on the given dataset (%).\n",
    "    \"\"\"\n",
    "    accuracy = 0.0\n",
    "    numOfInstances = len(dataset)\n",
    "    numOfPositivePredicts = 0\n",
    "\n",
    "    for i in range(numOfInstances):\n",
    "      instance = dataset[i,:]\n",
    "      pred = predict(node,instance)\n",
    "      currect_value = instance[-1]\n",
    "\n",
    "      if (currect_value == pred):\n",
    "        numOfPositivePredicts = numOfPositivePredicts +1\n",
    "\n",
    "    accuracy = numOfPositivePredicts/numOfInstances\n",
    "\n",
    "    return accuracy "
   ]
  },
  {
   "cell_type": "markdown",
   "metadata": {
    "id": "Sizn7RlBcx50"
   },
   "source": [
    "After building the three trees using the training set, you should calculate the accuracy on the test set. For each tree print the training and test accuracy. Select the tree that gave you the best test accuracy. For the rest of the exercise, use that tree (when you asked to build another tree use the same impurity function and same gain_ratio flag). "
   ]
  },
  {
   "cell_type": "code",
   "execution_count": 22,
   "metadata": {
    "colab": {
     "base_uri": "https://localhost:8080/"
    },
    "id": "RIcOHuDIcx50",
    "outputId": "cefd0c21-746d-4af2-9523-3714569b99fa"
   },
   "outputs": [
    {
     "name": "stdout",
     "output_type": "stream",
     "text": [
      "tree_gini train accuracy:  1.0\n",
      "tree_gini test accuracy:  0.7740029542097489\n",
      "tree_entropy train accuracy:  1.0\n",
      "tree_entropy test accuracy:  0.7754800590841949\n",
      "tree_entropy_gain_ratio train accuracy:  1.0\n",
      "tree_entropy_gain_ratio test accuracy:  0.7892663712456918\n"
     ]
    }
   ],
   "source": [
    "print (\"tree_gini train accuracy: \" , calc_accuracy(tree_gini,X_train))\n",
    "print (\"tree_gini test accuracy: \" , calc_accuracy(tree_gini,X_test))\n",
    "print (\"tree_entropy train accuracy: \" , calc_accuracy(tree_entropy,X_train))\n",
    "print (\"tree_entropy test accuracy: \" , calc_accuracy(tree_entropy,X_test))\n",
    "print (\"tree_entropy_gain_ratio train accuracy: \" , calc_accuracy(tree_entropy_gain_ratio,X_train))\n",
    "print (\"tree_entropy_gain_ratio test accuracy: \" , calc_accuracy(tree_entropy_gain_ratio,X_test))"
   ]
  },
  {
   "cell_type": "markdown",
   "metadata": {
    "id": "n8gjVQRKcx51"
   },
   "source": [
    "## Depth pruning\n",
    "\n",
    "(15 points)\n",
    "\n",
    "Consider the following max_depth values: [1, 2, 3, 4, 5, 6, 7, 8]. For each value, construct a tree and prune it according to the max_depth value = don't let the tree to grow beyond this depth. Next, calculate the training and testing accuracy.<br>\n",
    "On a single plot, draw the training and testing accuracy as a function of the max_depth. Mark the best result on the graph with red circle."
   ]
  },
  {
   "cell_type": "code",
   "execution_count": 23,
   "metadata": {
    "id": "9N7ZigJhcx51"
   },
   "outputs": [],
   "source": [
    "trees_dict1 = {}\n",
    "for i in range(1,9):\n",
    "  trees_dict1[i] = build_tree(X_train, calc_entropy, gain_ratio=True, min_samples_split=1, max_depth=i)"
   ]
  },
  {
   "cell_type": "code",
   "execution_count": 24,
   "metadata": {
    "id": "ut2syUf5GU62"
   },
   "outputs": [],
   "source": [
    "x_axis1 = np.arange(1,9)\n",
    "train_accuracy1 = [0]*8\n",
    "test_accuracy1 = [0]*8\n",
    "\n",
    "for i in range(8):\n",
    "  train_accuracy1[i] = calc_accuracy(trees_dict1[i+1],X_train)\n",
    "  test_accuracy1[i] = calc_accuracy(trees_dict1[i+1],X_test)\n",
    "\n",
    "train_accuracy1 = np.array(train_accuracy1)\n",
    "test_accuracy1 = np.array(test_accuracy1)"
   ]
  },
  {
   "cell_type": "code",
   "execution_count": 25,
   "metadata": {
    "colab": {
     "base_uri": "https://localhost:8080/",
     "height": 313
    },
    "id": "LHOu49_m9vP5",
    "outputId": "0bea7cbc-a217-4929-94bb-4387e5105e94"
   },
   "outputs": [
    {
     "name": "stdout",
     "output_type": "stream",
     "text": [
      "best accuracy is:  0.8951255539143279\n"
     ]
    },
    {
     "data": {
      "image/png": "[encoded data removed]",
      "text/plain": [
       "<Figure size 720x576 with 1 Axes>"
      ]
     },
     "metadata": {
      "needs_background": "light"
     },
     "output_type": "display_data"
    }
   ],
   "source": [
    "print (\"best accuracy is: \", max(test_accuracy1))\n",
    "plt.plot(x_axis1, train_accuracy1, label = 'train', marker=\"o\", markersize=5)\n",
    "plt.plot(x_axis1, test_accuracy1, label = 'test', marker=\"o\", markersize=5)\n",
    "plt.legend(loc='best')\n",
    "plt.xscale('linear')\n",
    "plt.xlabel('Depth')\n",
    "plt.ylabel('Accuracy')\n",
    "plt.title('Max depth Accuracy')\n",
    "plt.plot(x_axis1[3], test_accuracy1[3], marker=\"o\", markersize=10, markeredgecolor=\"red\",markerfacecolor=\"red\")\n",
    "plt.show()"
   ]
  },
  {
   "cell_type": "markdown",
   "metadata": {
    "id": "TClmykYacx51"
   },
   "source": [
    "## Min Samples Split\n",
    "\n",
    "(15 points)\n",
    "\n",
    "Consider the following min_samples_split values: [1, 5, 10, 20, 50]. For each value, construct a tree and prune it according to the min_samples_split value = don't split a node if the number of sample in it is less or equal to the min_samples_split value. Next, calculate the training and testing accuracy.<br>\n",
    "On a single plot, draw the training and testing accuracy as a function of the min_samples_split. Mark the best result on the graph with red circle. (make sure that the x-axis ticks represent the values of min_samples_split)"
   ]
  },
  {
   "cell_type": "code",
   "execution_count": 26,
   "metadata": {
    "id": "K_tPlymIcx51"
   },
   "outputs": [],
   "source": [
    "trees_dict2 = {}\n",
    "x_axis2 = np.array([1,5,10,20,50])\n",
    "for i in x_axis2:\n",
    "  trees_dict2[i] = build_tree(X_train, calc_entropy, gain_ratio=True, min_samples_split=i, max_depth=1000)"
   ]
  },
  {
   "cell_type": "code",
   "execution_count": 27,
   "metadata": {
    "id": "aApoL4ntIexx"
   },
   "outputs": [],
   "source": [
    "train_accuracy2 = [0]*5\n",
    "test_accuracy2 = [0]*5\n",
    "j=0\n",
    "for i in x_axis2:\n",
    "  train_accuracy2[j] = calc_accuracy(trees_dict2[i],X_train)\n",
    "  test_accuracy2[j] = calc_accuracy(trees_dict2[i],X_test)\n",
    "  j=j+1\n",
    "\n",
    "train_accuracy2 = np.array(train_accuracy2)\n",
    "test_accuracy2 = np.array(test_accuracy2)"
   ]
  },
  {
   "cell_type": "code",
   "execution_count": 28,
   "metadata": {
    "colab": {
     "base_uri": "https://localhost:8080/",
     "height": 313
    },
    "id": "aD0EK9A0C85T",
    "outputId": "fb68813e-3417-4aac-e732-212d4b91e8ba"
   },
   "outputs": [
    {
     "name": "stdout",
     "output_type": "stream",
     "text": [
      "best accuracy is:  0.8951255539143279\n"
     ]
    },
    {
     "data": {
      "image/png": "[encoded data removed]",
      "text/plain": [
       "<Figure size 720x576 with 1 Axes>"
      ]
     },
     "metadata": {
      "needs_background": "light"
     },
     "output_type": "display_data"
    }
   ],
   "source": [
    "print (\"best accuracy is: \", max(test_accuracy2))\n",
    "plt.plot(x_axis2, train_accuracy2, label = 'train', marker=\"o\", markersize=5)\n",
    "plt.plot(x_axis2, test_accuracy2, label = 'test', marker=\"o\", markersize=5)\n",
    "plt.legend(loc='best')\n",
    "plt.xscale('linear')\n",
    "plt.xlabel('min samples to split')\n",
    "plt.ylabel('Accuracy')\n",
    "plt.title('Max depth Accuracy')\n",
    "plt.plot(x_axis2[4], test_accuracy2[4], marker=\"o\", markersize=10, markeredgecolor=\"red\",markerfacecolor=\"red\")\n",
    "plt.xticks(x_axis2,x_axis2)\n",
    "plt.show()"
   ]
  },
  {
   "cell_type": "markdown",
   "metadata": {
    "id": "zrgtMhyEcx51"
   },
   "source": [
    "Build the best 2 trees:\n",
    "1. tree_max_depth - the best tree according to max_depth pruning\n",
    "1. tree_min_samples_split - the best tree according to min_samples_split pruning"
   ]
  },
  {
   "cell_type": "code",
   "execution_count": 29,
   "metadata": {
    "id": "rdgyX-otcx51"
   },
   "outputs": [],
   "source": [
    "tree_max_depth = build_tree(X_train, calc_entropy, gain_ratio=True, min_samples_split=1, max_depth=4)\n",
    "tree_min_samples_split = build_tree(X_train, calc_entropy, gain_ratio=True, min_samples_split=50, max_depth=1000)"
   ]
  },
  {
   "cell_type": "code",
   "execution_count": 30,
   "metadata": {
    "colab": {
     "base_uri": "https://localhost:8080/"
    },
    "id": "YDpmpjlBVYAs",
    "outputId": "390a982f-c4ad-415e-d874-e75d8cd7eb7c"
   },
   "outputs": [
    {
     "name": "stdout",
     "output_type": "stream",
     "text": [
      "accuracy for tree 1 is:  0.8951255539143279\n",
      "accuracy for tree 2 is:  0.8951255539143279\n"
     ]
    }
   ],
   "source": [
    "print (\"accuracy for tree 1 is: \", calc_accuracy(tree_max_depth,X_test))\n",
    "print (\"accuracy for tree 2 is: \", calc_accuracy(tree_min_samples_split,X_test))"
   ]
  },
  {
   "cell_type": "markdown",
   "metadata": {
    "id": "QHi43ppDcx51"
   },
   "source": [
    "## Number of Nodes\n",
    "\n",
    "(5 points)\n",
    "\n",
    "Complete the function counts_nodes and print the number of nodes in each tree and print the number of nodes of the two trees above"
   ]
  },
  {
   "cell_type": "code",
   "execution_count": 31,
   "metadata": {
    "id": "_COQlTmfcx51"
   },
   "outputs": [],
   "source": [
    "def count_nodes(node,count= 0):\n",
    "    \"\"\"\n",
    "    Count the number of node in a given tree\n",
    " \n",
    "    Input:\n",
    "    - node: a node in the decision tree.\n",
    " \n",
    "    Output: the number of node in the tree.\n",
    "    \"\"\"\n",
    "    if (node == None):    #check if empty node\n",
    "      return 0\n",
    "\n",
    "    count = count +1\n",
    "\n",
    "    if (node.feature == None):\n",
    "      return count\n",
    "\n",
    "    for value in node.children.keys():\n",
    "      count = count_nodes(node.children[value],count)\n",
    "    \n",
    "    return count"
   ]
  },
  {
   "cell_type": "code",
   "execution_count": 32,
   "metadata": {
    "colab": {
     "base_uri": "https://localhost:8080/"
    },
    "id": "5wiwsED2YRlV",
    "outputId": "2ef8633c-b825-43a2-f647-cffd1a673d2d"
   },
   "outputs": [
    {
     "name": "stdout",
     "output_type": "stream",
     "text": [
      "194\n",
      "350\n"
     ]
    }
   ],
   "source": [
    "print (count_nodes(tree_max_depth))\n",
    "print (count_nodes(tree_min_samples_split))"
   ]
  },
  {
   "cell_type": "markdown",
   "metadata": {
    "id": "rzn_4jaLcx52"
   },
   "source": [
    "## Print the tree\n",
    "\n",
    "Complete the function `print_tree`. Your tree should be visualized clearly. You can use the following example as a reference:\n",
    "```\n",
    "[ROOT, feature=X0],\n",
    "  [X0=a, feature=X2]\n",
    "    [X2=c, leaf]: [{1.0: 10}]\n",
    "    [X2=d, leaf]: [{0.0: 10}]\n",
    "  [X0=y, feature=X5], \n",
    "    [X5=a, leaf]: [{1.0: 5}]\n",
    "    [X5=s, leaf]: [{0.0: 10}]\n",
    "  [X0=e, leaf]: [{0.0: 25, 1.0: 50}]\n",
    "```\n",
    "In each brackets:\n",
    "* The first argument is the parent feature with the value that led to current node\n",
    "* The second argument is the selected feature of the current node\n",
    "* If the current node is a leaf, you need to print also the labels and their counts\n",
    "\n",
    "(5 points)"
   ]
  },
  {
   "cell_type": "code",
   "execution_count": 33,
   "metadata": {
    "id": "58iYMUj0cx52"
   },
   "outputs": [],
   "source": [
    "# you can change the function signeture\n",
    "def print_tree(node, depth=0, parent_feature='ROOT', feature_val='ROOT'):\n",
    "    '''\n",
    "    prints the tree according to the example above\n",
    "\n",
    "    Input:\n",
    "    - node: a node in the decision tree\n",
    "\n",
    "    This function has no return value\n",
    "    '''\n",
    "\n",
    "    if (node == None):    #check if empty node\n",
    "      return\n",
    "\n",
    "    tab = \" \"*2*depth\n",
    "\n",
    "    if (node.feature == None):\n",
    "      print(tab, end=\"\")\n",
    "      print (\"[X\" + str(parent_feature) + \"=\" + str(feature_val) + \", leaf]: [\" + str(find_keys_and_values_of_feature(node.samples,-1)) + \"]\")\n",
    "      return\n",
    "\n",
    "    elif(depth == 0):\n",
    "      print (\"[ROOT,\" + \" feature=X\" + str(node.feature) + \"]\")\n",
    "    \n",
    "    else:\n",
    "      print(tab, end=\"\")\n",
    "      print (\"[X\" + str(parent_feature) + \"=\" + str(feature_val) + \", feature=X\" + str(node.feature) + \"]\")\n",
    "\n",
    "    for value in node.children.keys():\n",
    "      print_tree(node.children[value], node.children[value].hight, node.feature, value)\n",
    "    \n",
    "    \n"
   ]
  },
  {
   "cell_type": "markdown",
   "metadata": {
    "id": "YIIsSv91cx52"
   },
   "source": [
    "print the tree with the best test accuracy and with less than 50 nodes (from the two pruning methods)"
   ]
  },
  {
   "cell_type": "code",
   "execution_count": 34,
   "metadata": {
    "colab": {
     "base_uri": "https://localhost:8080/"
    },
    "id": "bPMmsC_-cx52",
    "outputId": "08150611-82a1-492d-bcc4-739e71a959e3"
   },
   "outputs": [
    {
     "name": "stdout",
     "output_type": "stream",
     "text": [
      "[ROOT, feature=X4]\n",
      "  [X4=l, leaf]: [{'e': 272, 'p': 27}]\n",
      "  [X4=y, leaf]: [{'e': 49, 'p': 382}]\n",
      "  [X4=s, leaf]: [{'p': 380, 'e': 38}]\n",
      "  [X4=a, leaf]: [{'e': 273, 'p': 31}]\n",
      "  [X4=n, leaf]: [{'e': 2332, 'p': 344}]\n",
      "  [X4=f, leaf]: [{'p': 1438, 'e': 170}]\n",
      "  [X4=p, leaf]: [{'p': 175, 'e': 8}]\n",
      "  [X4=m, leaf]: [{'p': 25, 'e': 2}]\n",
      "  [X4=c, leaf]: [{'p': 137, 'e': 10}]\n"
     ]
    }
   ],
   "source": [
    "trees_with_less_than_50_nodes = []\n",
    "\n",
    "for i in trees_dict1.keys():\n",
    "  if(count_nodes(trees_dict1[i]) < 50):\n",
    "    trees_with_less_than_50_nodes.append(trees_dict1[i])\n",
    "\n",
    "for i in trees_dict2.keys():\n",
    "  if(count_nodes(trees_dict2[i]) < 50):\n",
    "    trees_with_less_than_50_nodes.append(trees_dict2[i])\n",
    "\n",
    "accuricy_array = []\n",
    "for tree in trees_with_less_than_50_nodes:\n",
    "  accuricy_array.append(calc_accuracy(tree,X_test))\n",
    "\n",
    "max_accuricy_value = max(accuricy_array)\n",
    "max_accuricy_index = accuricy_array.index(max_accuricy_value)\n",
    "\n",
    "print_tree(trees_with_less_than_50_nodes[max_accuricy_index])\n"
   ]
  }
 ],
 "metadata": {
  "celltoolbar": "Create Assignment",
  "colab": {
   "collapsed_sections": [],
   "name": "hwa2.ipynb",
   "provenance": []
  },
  "kernelspec": {
   "display_name": "Python 3 (ipykernel)",
   "language": "python",
   "name": "python3"
  },
  "language_info": {
   "codemirror_mode": {
    "name": "ipython",
    "version": 3
   },
   "file_extension": ".py",
   "mimetype": "text/x-python",
   "name": "python",
   "nbconvert_exporter": "python",
   "pygments_lexer": "ipython3",
   "version": "3.8.12"
  }
 },
 "nbformat": 4,
 "nbformat_minor": 1
}
