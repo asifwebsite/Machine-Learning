{
 "cells": [
  {
   "cell_type": "markdown",
   "metadata": {
    "nbgrader": {
     "grade": false,
     "grade_id": "cell-6bd0516e7cb654f5",
     "locked": true,
     "schema_version": 1,
     "solution": false
    }
   },
   "source": [
    "# Exercise 2: Decision Trees\n",
    "\n",
    "In this assignment you will implement a Decision Tree algorithm as learned in class.\n",
    "\n",
    "## Read the following instructions carefully:\n",
    "\n",
    "1. This jupyter notebook contains all the step by step instructions needed for this exercise.\n",
    "1. Submission includes this notebook only with the exercise number and your ID as the filename. For example: `hw2_123456789_987654321.ipynb` if you submitted in pairs and `hw2_123456789.ipynb` if you submitted the exercise alone.\n",
    "1. Write **efficient vectorized** code whenever possible. Some calculations in this exercise take several minutes when implemented efficiently, and might take much longer otherwise. Unnecessary loops will result in point deduction.\n",
    "1. You are responsible for the correctness of your code and should add as many tests as you see fit. Tests will not be graded nor checked.\n",
    "1. Write your functions in this notebook only. **Do not create Python modules and import them**.\n",
    "1. You are allowed to use functions and methods from the [Python Standard Library](https://docs.python.org/3/library/) and [numpy](https://www.numpy.org/devdocs/reference/) only. **Do not import anything else.**\n",
    "1. Your code must run without errors. Make sure your `numpy` version is at least 1.15.4 and that you are using at least python 3.6. Changes of the configuration we provided are at your own risk. Any code that cannot run will not be graded.\n",
    "1. Write your own code. Cheating will not be tolerated.\n",
    "1. Answers to qualitative questions should be written in **markdown** cells (with $\\LaTeX$ support). Answers that will be written in commented code blocks will not be checked.\n",
    "\n",
    "## In this exercise you will perform the following:\n",
    "1. Practice OOP in python.\n",
    "2. Implement two impurity measures: Gini and Entropy.\n",
    "3. Construct a decision tree algorithm.\n",
    "4. Prune the tree to achieve better results.\n",
    "5. Visualize your results."
   ]
  },
  {
   "cell_type": "markdown",
   "metadata": {},
   "source": [
    "# I have read and understood the instructions: *** 209209691_207164831***"
   ]
  },
  {
   "cell_type": "code",
   "execution_count": 26,
   "metadata": {
    "nbgrader": {
     "grade": false,
     "grade_id": "cell-ed9fe7b1026e33cb",
     "locked": true,
     "schema_version": 1,
     "solution": false
    }
   },
   "outputs": [],
   "source": [
    "import numpy as np\n",
    "import pandas as pd\n",
    "import matplotlib.pyplot as plt\n",
    "\n",
    "# make matplotlib figures appear inline in the notebook\n",
    "%matplotlib inline\n",
    "plt.rcParams['figure.figsize'] = (10.0, 8.0) # set default size of plots\n",
    "plt.rcParams['image.interpolation'] = 'nearest'\n",
    "plt.rcParams['image.cmap'] = 'gray'\n",
    "\n",
    "# Ignore warnings\n",
    "import warnings\n",
    "warnings.filterwarnings('ignore')"
   ]
  },
  {
   "cell_type": "markdown",
   "metadata": {
    "nbgrader": {
     "grade": false,
     "grade_id": "cell-c6ac605270c2b091",
     "locked": true,
     "schema_version": 1,
     "solution": false
    }
   },
   "source": [
    "## Warmup - OOP in python\n",
    "\n",
    "Our desicion tree will be implemented using a dedicated python class. Python classes are very similar to classes in Java.\n",
    "\n",
    "\n",
    "You can use the following [site](https://jeffknupp.com/blog/2014/06/18/improve-your-python-python-classes-and-object-oriented-programming/) to learn about classes in python."
   ]
  },
  {
   "cell_type": "code",
   "execution_count": 27,
   "metadata": {},
   "outputs": [],
   "source": [
    "class Node(object):\n",
    "    def __init__(self, data):\n",
    "        self.data = data\n",
    "        self.children = []\n",
    "\n",
    "    def add_child(self, node):\n",
    "        self.children.append(node)\n",
    "        \n",
    "    def __str__(self):\n",
    "        print(\"[\"+str(self.data)+\":\",end=\" \")\n",
    "        for i in range (len(self.children)):\n",
    "            print(str(self.children[i].data),end=\" \")\n",
    "        print(\"]\")\n",
    "        return \"\""
   ]
  },
  {
   "cell_type": "code",
   "execution_count": 28,
   "metadata": {},
   "outputs": [
    {
     "name": "stdout",
     "output_type": "stream",
     "text": [
      "[5: 6 7 ]\n",
      "\n"
     ]
    }
   ],
   "source": [
    "n = Node(5)\n",
    "p = Node(6)\n",
    "q = Node(7)\n",
    "n.add_child(p)\n",
    "n.add_child(q)\n",
    "n.children\n",
    "print(n)"
   ]
  },
  {
   "cell_type": "markdown",
   "metadata": {
    "nbgrader": {
     "grade": false,
     "grade_id": "cell-2f1ceb251c649b62",
     "locked": true,
     "schema_version": 1,
     "solution": false
    }
   },
   "source": [
    "## Data preprocessing\n",
    "\n",
    "\n",
    "For the following exercise, we will use a dataset containing mushroom data `agaricus-lepiota.csv`. \n",
    "\n",
    "This data set includes descriptions of hypothetical samples corresponding to 23 species of gilled mushrooms in the Agaricus and Lepiota Family. Each species is identified as definitely edible, definitely poisonous, or of unknown edibility and not recommended. This latter class was combined with the poisonous\n",
    "one (=there are only two classes **edible** and **poisonous**). \n",
    "    \n",
    "The dataset contains 8124 observations with 22 features:\n",
    "1. cap-shape: bell=b,conical=c,convex=x,flat=f,knobbed=k,sunken=s\n",
    "2. cap-surface: fibrous=f,grooves=g,scaly=y,smooth=s\n",
    "3. cap-color: brown=n,buff=b,cinnamon=c,gray=g,green=r,pink=p,purple=u,red=e,white=w,yellow=y\n",
    "4. bruises: bruises=t,no=f\n",
    "5. odor: almond=a,anise=l,creosote=c,fishy=y,foul=f, musty=m,none=n,pungent=p,spicy=s\n",
    "6. gill-attachment: attached=a,descending=d,free=f,notched=n\n",
    "7. gill-spacing: close=c,crowded=w,distant=d\n",
    "8. gill-size: broad=b,narrow=n\n",
    "9. gill-color: black=k,brown=n,buff=b,chocolate=h,gray=g,green=r,orange=o,pink=p,purple=u,red=e,white=w,yellow=y\n",
    "10. stalk-shape: enlarging=e,tapering=t\n",
    "11. stalk-root: bulbous=b,club=c,cup=u,equal=e,rhizomorphs=z,rooted=r\n",
    "12. stalk-surface-above-ring: fibrous=f,scaly=y,silky=k,smooth=s\n",
    "13. stalk-surface-below-ring: fibrous=f,scaly=y,silky=k,smooth=s\n",
    "14. stalk-color-above-ring: brown=n,buff=b,cinnamon=c,gray=g,orange=o,pink=p,red=e,white=w,yellow=y\n",
    "15. stalk-color-below-ring: brown=n,buff=b,cinnamon=c,gray=g,orange=o,pink=p,red=e,white=w,yellow=y\n",
    "16. veil-type: partial=p,universal=u\n",
    "17. veil-color: brown=n,orange=o,white=w,yellow=y\n",
    "18. ring-number: none=n,one=o,two=t\n",
    "19. ring-type: cobwebby=c,evanescent=e,flaring=f,large=l,none=n,pendant=p,sheathing=s,zone=z\n",
    "20. spore-print-color: black=k,brown=n,buff=b,chocolate=h,green=r,orange=o,purple=u,white=w,yellow=y\n",
    "21. population: abundant=a,clustered=c,numerous=n,scattered=s,several=v,solitary=y\n",
    "22. habitat: grasses=g,leaves=l,meadows=m,paths=p,urban=u,waste=w,woods=d\n",
    "\n",
    "First, we will read and explore the data using pandas and the `.read_csv` method. Pandas is an open source library providing high-performance, easy-to-use data structures and data analysis tools for the Python programming language."
   ]
  },
  {
   "cell_type": "code",
   "execution_count": 29,
   "metadata": {
    "nbgrader": {
     "grade": false,
     "grade_id": "cell-d79cb4542926ad3f",
     "locked": true,
     "schema_version": 1,
     "solution": false
    }
   },
   "outputs": [],
   "source": [
    "# load dataset\n",
    "data = pd.read_csv('agaricus-lepiota.csv')"
   ]
  },
  {
   "cell_type": "markdown",
   "metadata": {},
   "source": [
    "One of the advantages of the Decision Tree algorithm is that almost no preprocessing is required. However, finding missing values is always required."
   ]
  },
  {
   "cell_type": "code",
   "execution_count": 30,
   "metadata": {
    "scrolled": false
   },
   "outputs": [],
   "source": [
    "#############################################################################\n",
    "# TODO: Find columns with missing values and remove them from the data.#\n",
    "#############################################################################\n",
    "data = data.dropna(axis = 1)\n",
    "\n",
    "#############################################################################\n",
    "#                             END OF YOUR CODE                              #\n",
    "#############################################################################"
   ]
  },
  {
   "cell_type": "markdown",
   "metadata": {},
   "source": [
    "We will split the dataset to `Training` and `Testing` datasets."
   ]
  },
  {
   "cell_type": "code",
   "execution_count": 31,
   "metadata": {},
   "outputs": [
    {
     "name": "stdout",
     "output_type": "stream",
     "text": [
      "Training dataset shape:  (6093, 22)\n",
      "Testing dataset shape:  (2031, 22)\n"
     ]
    }
   ],
   "source": [
    "from sklearn.model_selection import train_test_split\n",
    "# Making sure the last column will hold the labels\n",
    "X, y = data.drop('class', axis=1), data['class']\n",
    "\n",
    "X = np.column_stack([X,y])\n",
    "# split dataset using random_state to get the same split each time\n",
    "X_train, X_test = train_test_split(X, random_state=99)\n",
    "\n",
    "\n",
    "print(\"Training dataset shape: \", X_train.shape)\n",
    "print(\"Testing dataset shape: \", X_test.shape)"
   ]
  },
  {
   "cell_type": "code",
   "execution_count": 32,
   "metadata": {},
   "outputs": [
    {
     "data": {
      "text/plain": [
       "(8124,)"
      ]
     },
     "execution_count": 32,
     "metadata": {},
     "output_type": "execute_result"
    }
   ],
   "source": [
    "y.shape"
   ]
  },
  {
   "cell_type": "markdown",
   "metadata": {
    "nbgrader": {
     "grade": false,
     "grade_id": "cell-fd7b0191f3f1e897",
     "locked": true,
     "schema_version": 1,
     "solution": false
    }
   },
   "source": [
    "\n",
    "## Impurity Measures\n",
    "\n",
    "Impurity is a measure of how often a randomly chosen element from the set would be incorrectly labeled if it was randomly labeled according to the distribution of labels in the subset. Implement the functions `calc_gini` and `calc_entropy`. You are encouraged to test your implementation (10 points)."
   ]
  },
  {
   "cell_type": "code",
   "execution_count": 33,
   "metadata": {},
   "outputs": [],
   "source": [
    "def calc_gini(data):\n",
    "    \"\"\"\n",
    "    Calculate gini impurity measure of a dataset.\n",
    " \n",
    "    Input:\n",
    "    - data: any dataset where the last column holds the labels.\n",
    " \n",
    "    Returns the gini impurity.    \n",
    "    \"\"\"\n",
    "    gini = 0.0\n",
    "    ###########################################################################\n",
    "    # TODO: Implement the function.                                           #\n",
    "    ###########################################################################\n",
    "    \n",
    "    #Finding the dispersion of each lebel\n",
    "    labels_index= data.shape[1]-1 \n",
    "    labels_values = data[:, labels_index]\n",
    "    S = labels_values.shape[0]\n",
    "    _, dispersion = np.unique(labels_values, return_counts=True)\n",
    "    \n",
    "    #Implement gini function\n",
    "    prob = dispersion / S\n",
    "    gini = 1 - np.sum(prob**2)\n",
    "    ###########################################################################\n",
    "    #                             END OF YOUR CODE                            #\n",
    "    ###########################################################################\n",
    "    return gini"
   ]
  },
  {
   "cell_type": "code",
   "execution_count": 34,
   "metadata": {},
   "outputs": [],
   "source": [
    "def calc_entropy(data):\n",
    "    \"\"\"\n",
    "    Calculate the entropy of a dataset.\n",
    "\n",
    "    Input:\n",
    "    - data: any dataset where the last column holds the labels.\n",
    "\n",
    "    Returns the entropy of the dataset.    \n",
    "    \"\"\"\n",
    "    entropy = 0.0\n",
    "    ###########################################################################\n",
    "    # TODO: Implement the function.                                           #\n",
    "    ###########################################################################\n",
    "    \n",
    "    #Finding the dispersion of each lebel\n",
    "    labels_index= data.shape[1]-1\n",
    "    labels_values = data[:, labels_index]\n",
    "    S = labels_values.shape[0]\n",
    "    _, dispersion = np.unique(labels_values, return_counts=True)\n",
    "    \n",
    "    #Implement entropy function\n",
    "    prob = dispersion / S\n",
    "    prob_mult_logProb=-1*prob*np.log2(prob)\n",
    "    entropy = np.sum(prob_mult_logProb)\n",
    "    ###########################################################################\n",
    "    #                             END OF YOUR CODE                            #\n",
    "    ###########################################################################\n",
    "    return entropy"
   ]
  },
  {
   "cell_type": "code",
   "execution_count": 35,
   "metadata": {
    "scrolled": true
   },
   "outputs": [
    {
     "data": {
      "text/plain": [
       "(0.4995636322379775, 0.9993703627906085)"
      ]
     },
     "execution_count": 35,
     "metadata": {},
     "output_type": "execute_result"
    }
   ],
   "source": [
    "##### Your Tests Here #####\n",
    "calc_gini(X), calc_entropy(X)"
   ]
  },
  {
   "cell_type": "markdown",
   "metadata": {},
   "source": [
    "## Goodness of Split\n",
    "\n",
    "Given a feature the Goodnees of Split measures the reduction in the impurity if we split the data according to the feature.\n",
    "$$\n",
    "\\Delta\\varphi(S, A) = \\varphi(S) - \\sum_{v\\in Values(A)} \\frac{|S_v|}{|S|}\\varphi(S_v)\n",
    "$$\n",
    "\n",
    "In our implementation the goodness_of_split function will return either the Goodness of Split or the Gain Ratio as learned in class. You'll control the return value with the `gain_ratio` parameter. If this parameter will set to False (the default value) it will return the regular Goodness of Split. If it will set to True it will return the Gain Ratio.\n",
    "$$\n",
    "GainRatio(S,A)=\\frac{InformationGain(S,A)}{SplitInformation(S,A)}\n",
    "$$\n",
    "Where:\n",
    "$$\n",
    "InformationGain(S,A)=Goodness\\ of\\ Split\\ calculated\\ with\\ Entropy\\ as\\ the\\ Impurity\\ function \\\\\n",
    "SplitInformation(S,A)=- \\sum_{a\\in A} \\frac{|S_a|}{|S|}\\log\\frac{|S_a|}{|S|}\n",
    "$$\n",
    "NOTE: you can add more parameters to the function and you can also add more returning variables (The given parameters and the given returning variable should not be touch). (10 Points)"
   ]
  },
  {
   "cell_type": "code",
   "execution_count": 36,
   "metadata": {},
   "outputs": [],
   "source": [
    "def goodness_of_split(data, feature, impurity_func, gain_ratio=False):\n",
    "    \"\"\"\n",
    "    Calculate the goodness of split of a dataset given a feature and impurity function.\n",
    "\n",
    "    Input:\n",
    "    - data: any dataset where the last column holds the labels.\n",
    "    - feature: the feature index.\n",
    "    - impurity func: a function that calculates the impurity.\n",
    "    - gain_ratio: goodness of split or gain ratio flag.\n",
    "\n",
    "    Returns the goodness of split (or the Gain Ration).  \n",
    "    \"\"\"\n",
    "    ###########################################################################\n",
    "    # TODO: Implement the function.                                           #\n",
    "    ###########################################################################\n",
    "    \n",
    "    #Checks if gain_ratio == True so we have to adjust the impurity_func to be calc_entropy\n",
    "    if gain_ratio:\n",
    "        impurity_func = calc_entropy\n",
    "        splitinformation = 0\n",
    "\n",
    "    #Impurity before the split (𝜑(𝑆))\n",
    "    data_imputrity = impurity_func(data)\n",
    "    \n",
    "    #Creating a new copy of the data thats include only the feature and labels columns\n",
    "    labels_values = data[:,data.shape[1]-1]\n",
    "    m = labels_values.shape[0]\n",
    "    data_copy=data[:,[feature,data.shape[1]-1]]\n",
    "    \n",
    "    #Creating a dictionary include values(unique from feature colums):counts(number of apperiance)\n",
    "    feature_values = data[:, feature]\n",
    "    values, counts = np.unique(feature_values, return_counts=True)\n",
    "    dict_values_counts = dict(zip(values, counts))\n",
    "    \n",
    "    #calculating the gain in the impurity\n",
    "    goodness = data_imputrity\n",
    "    \n",
    "    for val in values:\n",
    "        sub_data_val = data_copy[data_copy[:,0] == val]\n",
    "        impurity_val = impurity_func(sub_data_val)\n",
    "        prob_val = dict_values_counts[val]/m\n",
    "        goodness = goodness - (prob_val * impurity_val)\n",
    "        if gain_ratio:\n",
    "            splitinformation -= prob_val*np.log2(prob_val)\n",
    "            \n",
    "   #Calculate gain ratio (if needed) \n",
    "    if gain_ratio:\n",
    "        if(splitinformation==0):\n",
    "            return 0\n",
    "        goodness /= splitinformation \n",
    "    \n",
    "    ###########################################################################\n",
    "    #                             END OF YOUR CODE                            #\n",
    "    ###########################################################################\n",
    "    return goodness    "
   ]
  },
  {
   "cell_type": "markdown",
   "metadata": {},
   "source": [
    "## Building a Decision Tree\n",
    "\n",
    "Use a Python class to construct the decision tree. Your class should support the following functionality:\n",
    "\n",
    "1. Initiating a node for a decision tree. You will need to use several class methods and class attributes and you are free to use them as you see fit. We recommend that every node will hold the feature and value used for the split and its children.\n",
    "2. Your code should support both Gini and Entropy as impurity measures. \n",
    "3. The provided data includes categorical data. In this exercise, when splitting a node create the number of children needed according to the attribute unique values.\n",
    "\n",
    "Complete the class `DecisionNode`. The structure of this class is entirely up to you. \n",
    "\n",
    "Complete the function `build_tree`. This function should get the training dataset and the impurity as inputs, initiate a root for the decision tree and construct the tree according to the procedure you learned in class. (30 points)"
   ]
  },
  {
   "cell_type": "code",
   "execution_count": 37,
   "metadata": {},
   "outputs": [],
   "source": [
    "class DecisionNode:\n",
    "    \"\"\"\n",
    "    This class will hold everything you require to construct a decision tree.\n",
    "    The structure of this class is up to you. However, you need to support basic \n",
    "    functionality as described above. It is highly recommended that you \n",
    "    first read and understand the entire exercise before diving into this class.\n",
    "    \"\"\"\n",
    "    def __init__(self,data,impurity_level, depth, feature=None, value=None, father_node=None ):\n",
    "        self.data = data #data before splitting\n",
    "        self.feature = feature #The feature we use to split the instances\n",
    "        self.children=[] #A dictionary that contains value : node (A children node)\n",
    "        self.value=value #The value he splitted from parent\n",
    "        self.pred=None #Prediction result\n",
    "        self.impurity_level = impurity_level #Impurity current value\n",
    "        self.depth=depth #The depth of the node in the tree\n",
    "        self.counts_nodes = 1 #Number of nodes- changes in for the root\n",
    "        \n",
    "        labels, counts = np.unique(self.data[:, -1], return_counts=True)\n",
    "        self.labels = dict(zip(labels, counts)) #A dict of labels and count of them\n",
    "        self.features_list = [] #The feature remain to split with\n",
    "        \n",
    "    #Adding children to child list of a node    \n",
    "    def add_child(self, node):\n",
    "        self.children.append(node)\n",
    "    \n",
    "    #Find the major label in a current data\n",
    "    def major_label_finder(self):\n",
    "        labels_index= self.data.shape[1]-1 \n",
    "        labels_values = self.data[:, labels_index]\n",
    "        labels, counts = np.unique(labels_values, return_counts=True)\n",
    "        label_max_apperance = np.argmax(counts)\n",
    "        return labels[label_max_apperance]\n",
    "    \n",
    "    #Find the feature, from remain feature list, that gives the maximum goodnes of split \n",
    "    def best_feature_finder(self, impurity_function, gain_ratio):\n",
    "        best_feature_value = -1\n",
    "        best_feature_goodness = -1\n",
    "        for feature in (self.features_list):\n",
    "            cur_feature_goodness = (goodness_of_split(self.data, feature, impurity_function, gain_ratio))\n",
    "            if(cur_feature_goodness > best_feature_goodness):\n",
    "                best_feature_goodness = cur_feature_goodness\n",
    "                best_feature_value = feature\n",
    "        return best_feature_value , best_feature_goodness\n",
    "     \n",
    "    #Counts number of nodes and store in root.counts_nodes\n",
    "    def node_counter (self,root):\n",
    "        root.counts_nodes +=1 \n",
    "    \n",
    "    #Find children that a feature split\n",
    "    def children_finder(self,impurity_function,feature,root):\n",
    "        feature_values = self.data[:, feature]\n",
    "        values, counts = np.unique(feature_values, return_counts=True)\n",
    "        dict_values_counts = dict(zip(values, counts))\n",
    "        #Updates children attributes\n",
    "        for val in values:\n",
    "            sub_data_val = self.data[self.data[:,feature] == val]\n",
    "            impurity_val = impurity_function(sub_data_val)\n",
    "            cur_child_node = DecisionNode(sub_data_val,impurity_val,self.depth+1,feature,val, self)\n",
    "            cur_child_node.pred=cur_child_node.major_label_finder()\n",
    "            cur_child_node.features_list = self.features_list.copy()\n",
    "            cur_child_node.features_list.remove(feature)\n",
    "            self.add_child(cur_child_node)\n",
    "            cur_child_node.node_counter(root)\n",
    "\n",
    "        "
   ]
  },
  {
   "cell_type": "code",
   "execution_count": 38,
   "metadata": {},
   "outputs": [],
   "source": [
    "def build_tree(data, impurity, gain_ratio=False, min_samples_split=1, max_depth=1000):\n",
    "    \"\"\"\n",
    "    Build a tree using the given impurity measure and training dataset. \n",
    "    You are required to fully grow the tree until all leaves are pure. \n",
    "\n",
    "    Input:\n",
    "    - data: the training dataset.\n",
    "    - impurity: the chosen impurity measure. Notice that you can send a function\n",
    "                as an argument in python.\n",
    "    - gain_ratio: goodness of split or gain ratio flag\n",
    "    - min_samples_split: the minimum number of samples required to split an internal node\n",
    "    - max_depth: the allowable depth of the tree\n",
    "\n",
    "    Output: the root node of the tree.\n",
    "    \"\"\"\n",
    "    \n",
    "    ###########################################################################\n",
    "    # TODO: Implement the function.                                           #\n",
    "    ###########################################################################\n",
    "    \n",
    "    #Define the root\n",
    "    data_copy = data.copy()\n",
    "    root = DecisionNode(data_copy,impurity(data_copy),0)\n",
    "    root.pred = root.major_label_finder()\n",
    "    root.features_list = list(range(data.shape[1] -1))\n",
    "    Root=root\n",
    "    \n",
    "    #Checks gain ratio condition\n",
    "    if (gain_ratio==True):\n",
    "        impurity = calc_entropy       \n",
    "    \n",
    "    #Recursive builder for the tree\n",
    "    def recursive_tree_builder(data,impurity_function,impurity_level,node,cur_depth, gain_ratio, min_samples_split, max_depth,Root):\n",
    "        \n",
    "        #Stop conditions\n",
    "        if(impurity_level <= 0 or cur_depth >= max_depth or data.shape[0]<= min_samples_split):\n",
    "            node.pred=node.major_label_finder()\n",
    "            return\n",
    "        #Find the best feature and checks if it improve the impurity or not\n",
    "        best_feature, feature_goodness=node.best_feature_finder( impurity_function, gain_ratio)\n",
    "        if feature_goodness==0:\n",
    "            node.pred=node.major_label_finder()\n",
    "            return\n",
    "        \n",
    "        #Find children and call the recursive function for each child\n",
    "        node.children_finder(impurity_function,best_feature,root)\n",
    "        for child in node.children:\n",
    "            recursive_tree_builder(child.data,impurity_function,child.impurity_level,child,child.depth, gain_ratio, min_samples_split, max_depth,Root)      \n",
    "    \n",
    "    \n",
    "    #Actual Building the tree by a recursive call from the root\n",
    "    recursive_tree_builder(data,impurity,root.impurity_level,root,0, gain_ratio, min_samples_split, max_depth,Root)      \n",
    "   \n",
    "    \n",
    "    ###########################################################################\n",
    "    #                             END OF YOUR CODE                            #\n",
    "    ###########################################################################\n",
    "    return root"
   ]
  },
  {
   "cell_type": "code",
   "execution_count": 39,
   "metadata": {},
   "outputs": [],
   "source": [
    "# python supports passing a function as an argument to another function.\n",
    "tree_gini = build_tree(data=X_train, impurity=calc_gini) # gini and goodness of split\n",
    "tree_entropy = build_tree(data=X_train, impurity=calc_entropy) # entropy and goodness of split\n",
    "tree_entropy_gain_ratio = build_tree(data=X_train, impurity=calc_entropy, gain_ratio=True) # entropy and gain ratio"
   ]
  },
  {
   "cell_type": "markdown",
   "metadata": {},
   "source": [
    "## Tree evaluation\n",
    "\n",
    "Complete the functions `predict` and `calc_accuracy`. (10 points)"
   ]
  },
  {
   "cell_type": "code",
   "execution_count": 40,
   "metadata": {},
   "outputs": [],
   "source": [
    "def predict(node, instance):\n",
    "    \"\"\"\n",
    "    Predict a given instance using the decision tree\n",
    " \n",
    "    Input:\n",
    "    - root: the root of the decision tree.\n",
    "    - instance: an row vector from the dataset. Note that the last element \n",
    "                of this vector is the label of the instance.\n",
    " \n",
    "    Output: the prediction of the instance.\n",
    "    \"\"\"\n",
    "    pred = None\n",
    "    \n",
    "    ###########################################################################\n",
    "    # TODO: Implement the function.                                           #\n",
    "    ###########################################################################\n",
    "    \n",
    "    #A boolean that helps to know if arrived to a leaf\n",
    "    node_changed=True\n",
    "    \n",
    "    #Nevigate in the tree by a feature and value untill arriving to a leaf\n",
    "    while (len(node.children)>0 and node_changed) :\n",
    "        node_changed=False\n",
    "        feature_selector=node.children[0].feature\n",
    "        value_instance=instance[feature_selector]\n",
    "        for child in node.children:\n",
    "            if child.value==value_instance:\n",
    "                node=child\n",
    "                node_changed=True\n",
    "                break\n",
    "    ###########################################################################\n",
    "    #                             END OF YOUR CODE                            #\n",
    "    ###########################################################################\n",
    "    return node.pred"
   ]
  },
  {
   "cell_type": "code",
   "execution_count": 41,
   "metadata": {},
   "outputs": [],
   "source": [
    "def calc_accuracy(node, dataset):\n",
    "    \"\"\"\n",
    "    Predict a given dataset using the decision tree\n",
    " \n",
    "    Input:\n",
    "    - node: a node in the decision tree.\n",
    "    - dataset: the dataset on which the accuracy is evaluated\n",
    " \n",
    "    Output: the accuracy of the decision tree on the given dataset (%).\n",
    "    \"\"\"\n",
    "    accuracy = 0\n",
    "    ###########################################################################\n",
    "    # TODO: Implement the function.                                           #\n",
    "    ###########################################################################\n",
    "   \n",
    "    #Calculate accuracy with predict function on all data set\n",
    "    m=len(dataset)\n",
    "    for instance in dataset:\n",
    "        label_predicted=predict(node,instance)\n",
    "        if(label_predicted==instance[-1]):\n",
    "            accuracy=accuracy+1\n",
    "    accuracy=accuracy/m *100       \n",
    "    ###########################################################################\n",
    "    #                             END OF YOUR CODE                            #\n",
    "    ###########################################################################\n",
    "    return accuracy"
   ]
  },
  {
   "cell_type": "markdown",
   "metadata": {},
   "source": [
    "After building the three trees using the training set, you should calculate the accuracy on the test set. For each tree print the training and test accuracy. Select the tree that gave you the best test accuracy. For the rest of the exercise, use that tree (when you asked to build another tree use the same impurity function and same gain_ratio flag). "
   ]
  },
  {
   "cell_type": "code",
   "execution_count": 42,
   "metadata": {},
   "outputs": [
    {
     "name": "stdout",
     "output_type": "stream",
     "text": [
      "tree_gini train accuracy:  99.24503528639423 %\n",
      "tree_gini test accuracy:  77.5972427375677 %\n",
      "tree_entropy train accuracy:  99.40915805022156 %\n",
      "tree_entropy test accuracy:  77.30182176267849 %\n",
      "tree_entropy_gain_ratio train accuracy:  99.63892991957984 %\n",
      "tree_entropy_gain_ratio test accuracy:  78.58197932053176 %\n"
     ]
    }
   ],
   "source": [
    "print (\"tree_gini train accuracy: \" , calc_accuracy(tree_gini,X_train), \"%\")\n",
    "print (\"tree_gini test accuracy: \" , calc_accuracy(tree_gini,X_test), \"%\")\n",
    "print (\"tree_entropy train accuracy: \" , calc_accuracy(tree_entropy,X_train), \"%\")\n",
    "print (\"tree_entropy test accuracy: \" , calc_accuracy(tree_entropy,X_test), \"%\")\n",
    "print (\"tree_entropy_gain_ratio train accuracy: \" , calc_accuracy(tree_entropy_gain_ratio,X_train), \"%\")\n",
    "print (\"tree_entropy_gain_ratio test accuracy: \" , calc_accuracy(tree_entropy_gain_ratio,X_test), \"%\")"
   ]
  },
  {
   "cell_type": "markdown",
   "metadata": {},
   "source": [
    "## Depth pruning\n",
    "\n",
    "(15 points)\n",
    "\n",
    "Consider the following max_depth values: [1, 2, 3, 4, 5, 6, 7, 8]. For each value, construct a tree and prune it according to the max_depth value = don't let the tree to grow beyond this depth. Next, calculate the training and testing accuracy.<br>\n",
    "On a single plot, draw the training and testing accuracy as a function of the max_depth. Mark the best result on the graph with red circle."
   ]
  },
  {
   "cell_type": "code",
   "execution_count": 43,
   "metadata": {},
   "outputs": [
    {
     "data": {
      "image/png": "[encoded data removed]",
      "text/plain": [
       "<Figure size 720x576 with 1 Axes>"
      ]
     },
     "metadata": {
      "needs_background": "light"
     },
     "output_type": "display_data"
    }
   ],
   "source": [
    "#### Your code here ####\n",
    "depths_range = range(1,9) # range of depths to check\n",
    "train_accuracy_list = [] #list of accuracy in the train set\n",
    "test_accuracy_list = [] #list of accuracy in the test set\n",
    "roots_list=[] #List of all roots the function creates\n",
    "best_accuracy_test = 0 #best accuracy in the test set\n",
    "best_depth_test = 0 #depth of best accuracy in the test set\n",
    "\n",
    "for depth in depths_range:\n",
    "   \n",
    "    #build the tree for each depth and calcualte the accuracy for both test and train sets \n",
    "    tree = build_tree(X_train, calc_entropy,True,1,depth)\n",
    "    accuracy_train_cur_depth = calc_accuracy(tree,X_train)\n",
    "    accuracy_test_cur_depth = calc_accuracy(tree,X_test)\n",
    "    \n",
    "    #append the accuracy to each list\n",
    "    train_accuracy_list.append(accuracy_train_cur_depth)\n",
    "    test_accuracy_list.append(accuracy_test_cur_depth)\n",
    "    \n",
    "    #append the root of the tree to roots_list\n",
    "    roots_list.append(tree)\n",
    "\n",
    "    #check for best accuracy in test set\n",
    "    if (accuracy_test_cur_depth > best_accuracy_test):\n",
    "        best_accuracy_test = accuracy_test_cur_depth \n",
    "        best_depth_test = depth\n",
    "        \n",
    "#For later use - a dictionary contains roots and accuracy         \n",
    "dict_depth_pruning = dict(zip(roots_list, test_accuracy_list))\n",
    "\n",
    "#plot the graph\n",
    "plt.scatter(best_depth_test, best_accuracy_test,s=200, color='None',edgecolor = 'red')\n",
    "plt.plot(list(depths_range), train_accuracy_list, label = 'Training Set')\n",
    "plt.plot(list(depths_range), test_accuracy_list, label = 'Test Set')\n",
    "plt.xscale('linear')\n",
    "plt.xlabel('The Depth of the Tree')\n",
    "plt.ylabel('Accuracy')\n",
    "plt.title(\"Depth tree's infulence on the Accuracy of the prediction on Training and Test sets\")\n",
    "plt.legend()\n",
    "plt.show()  "
   ]
  },
  {
   "cell_type": "markdown",
   "metadata": {},
   "source": [
    "## Min Samples Split\n",
    "\n",
    "(15 points)\n",
    "\n",
    "Consider the following min_samples_split values: [1, 5, 10, 20, 50]. For each value, construct a tree and prune it according to the min_samples_split value = don't split a node if the number of sample in it is less or equal to the min_samples_split value. Next, calculate the training and testing accuracy.<br>\n",
    "On a single plot, draw the training and testing accuracy as a function of the min_samples_split. Mark the best result on the graph with red circle. (make sure that the x-axis ticks represent the values of min_samples_split)"
   ]
  },
  {
   "cell_type": "code",
   "execution_count": 44,
   "metadata": {},
   "outputs": [
    {
     "data": {
      "image/png": "[encoded data removed]",
      "text/plain": [
       "<Figure size 720x576 with 1 Axes>"
      ]
     },
     "metadata": {
      "needs_background": "light"
     },
     "output_type": "display_data"
    }
   ],
   "source": [
    "#### Your code here ####\n",
    "min_samples_split_values = [1, 5, 10, 20, 50] # range of split to check\n",
    "train_accuracy_list = [] #list of accuracy in the train set\n",
    "test_accuracy_list = [] #list of accuracy in the test set\n",
    "roots_list=[] #list of the roots the function creates\n",
    "best_accuracy_test = 0 #best accuracy in the test set\n",
    "best_split_test = 0 #split of best accuracy in the test set\n",
    "\n",
    "for split in min_samples_split_values:\n",
    "   \n",
    "    #build the tree for each depth and calcualte the accuracy for both test and train sets \n",
    "    tree = build_tree(X_train, calc_entropy,True,split)\n",
    "    accuracy_train_cur_split = calc_accuracy(tree,X_train)\n",
    "    accuracy_test_cur_split = calc_accuracy(tree,X_test)\n",
    "    \n",
    "    #append the accuracy to each list\n",
    "    train_accuracy_list.append(accuracy_train_cur_split)\n",
    "    test_accuracy_list.append(accuracy_test_cur_split)\n",
    "    \n",
    "    #append the root of the tree to roots_list\n",
    "    roots_list.append(tree)\n",
    "\n",
    "    #check for best accuracy in test set\n",
    "    if accuracy_test_cur_split > best_accuracy_test:\n",
    "        best_accuracy_test = accuracy_test_cur_split \n",
    "        best_split_test = split\n",
    "        \n",
    "#For later use - a dictionary contains roots and accuracy         \n",
    "dict_min_Samples_split = dict(zip(roots_list, test_accuracy_list))\n",
    "\n",
    "#plot the graph\n",
    "plt.scatter(best_split_test, best_accuracy_test,s=200, color='None',edgecolor = 'red')\n",
    "plt.plot(list(min_samples_split_values), train_accuracy_list, label = 'Training Set')\n",
    "plt.plot(list(min_samples_split_values), test_accuracy_list, label = 'Test Set')\n",
    "plt.xscale('linear')\n",
    "plt.xlabel('The Depth of the Tree')\n",
    "plt.ylabel('Accuracy')\n",
    "plt.title(\"Depth tree's infulence on the Accuracy of the prediction on Training and Test sets\")\n",
    "plt.legend()\n",
    "plt.show() "
   ]
  },
  {
   "cell_type": "markdown",
   "metadata": {},
   "source": [
    "Build the best 2 trees:\n",
    "1. tree_max_depth - the best tree according to max_depth pruning\n",
    "1. tree_min_samples_split - the best tree according to min_samples_split pruning"
   ]
  },
  {
   "cell_type": "code",
   "execution_count": 45,
   "metadata": {},
   "outputs": [],
   "source": [
    "tree_max_depth= build_tree(X_train, calc_entropy,True,1,4)\n",
    "tree_min_samples_split= build_tree(X_train, calc_entropy,True,50)"
   ]
  },
  {
   "cell_type": "markdown",
   "metadata": {},
   "source": [
    "## Number of Nodes\n",
    "\n",
    "(5 points)\n",
    "\n",
    "Complete the function counts_nodes and print the number of nodes in each tree and print the number of nodes of the two trees above"
   ]
  },
  {
   "cell_type": "code",
   "execution_count": 46,
   "metadata": {
    "scrolled": true
   },
   "outputs": [],
   "source": [
    "def count_nodes(node):\n",
    "    \"\"\"\n",
    "    Count the number of node in a given tree\n",
    " \n",
    "    Input:\n",
    "    - node: a node in the decision tree.\n",
    " \n",
    "    Output: the number of node in the tree.\n",
    "    \"\"\"\n",
    "    ###########################################################################\n",
    "    # TODO: Implement the function.                                           #\n",
    "    ###########################################################################\n",
    "    return node.counts_nodes\n",
    "    ###########################################################################\n",
    "    #                             END OF YOUR CODE                            #\n",
    "    ###########################################################################\n"
   ]
  },
  {
   "cell_type": "code",
   "execution_count": 47,
   "metadata": {},
   "outputs": [
    {
     "name": "stdout",
     "output_type": "stream",
     "text": [
      "205\n",
      "349\n"
     ]
    }
   ],
   "source": [
    "print(count_nodes(tree_max_depth))\n",
    "print(count_nodes(tree_min_samples_split))"
   ]
  },
  {
   "cell_type": "code",
   "execution_count": null,
   "metadata": {},
   "outputs": [],
   "source": []
  },
  {
   "cell_type": "markdown",
   "metadata": {},
   "source": [
    "## Print the tree\n",
    "\n",
    "Complete the function `print_tree`. Your tree should be visualized clearly. You can use the following example as a reference:\n",
    "```\n",
    "[ROOT, feature=X0],\n",
    "  [X0=a, feature=X2]\n",
    "    [X2=c, leaf]: [{1.0: 10}]\n",
    "    [X2=d, leaf]: [{0.0: 10}]\n",
    "  [X0=y, feature=X5], \n",
    "    [X5=a, leaf]: [{1.0: 5}]\n",
    "    [X5=s, leaf]: [{0.0: 10}]\n",
    "  [X0=e, leaf]: [{0.0: 25, 1.0: 50}]\n",
    "```\n",
    "In each brackets:\n",
    "* The first argument is the parent feature with the value that led to current node\n",
    "* The second argument is the selected feature of the current node\n",
    "* If the current node is a leaf, you need to print also the labels and their counts\n",
    "\n",
    "(5 points)\n"
   ]
  },
  {
   "cell_type": "code",
   "execution_count": 48,
   "metadata": {},
   "outputs": [],
   "source": [
    "# you can change the function signeture\n",
    "def print_tree(node, depth=0, parent_feature='ROOT'):\n",
    "    '''\n",
    "    prints the tree according to the example above\n",
    "\n",
    "    Input:\n",
    "    - node: a node in the decision tree\n",
    "\n",
    "    This function has no return value\n",
    "    '''\n",
    "    ###########################################################################\n",
    "    # TODO: Implement the function.                                           #\n",
    "    ###########################################################################\n",
    "    \n",
    "    #For each node until we arrive maximal depth of the tree / depth argument\n",
    "    #We create the tree according to instructions\n",
    "    if node.depth <= depth:\n",
    "        labels = ''\n",
    "        if len(node.children) > 0:\n",
    "            feature_name = 'feature=X'+ str(node.children[0].feature, )       \n",
    "        else:\n",
    "            feature_name = 'leaf'\n",
    "            labels = '[%s]'% node.labels\n",
    "        print(\"\\t\" * node.depth + \"[\" + str(parent_feature) + \",\" + feature_name + \"]\" + labels)\n",
    "        for child in node.children:\n",
    "            parent_feature =\"X\" + str(child.feature) + '=' + child.value\n",
    "            print_tree(child, depth-1, parent_feature)\n",
    "    \n",
    "    ###########################################################################\n",
    "    #                             END OF YOUR CODE                            #\n",
    "    ###########################################################################"
   ]
  },
  {
   "cell_type": "markdown",
   "metadata": {},
   "source": [
    "print the tree with the best test accuracy and with less than 50 nodes (from the two pruning methods)"
   ]
  },
  {
   "cell_type": "code",
   "execution_count": 49,
   "metadata": {},
   "outputs": [
    {
     "name": "stdout",
     "output_type": "stream",
     "text": [
      "[ROOT,feature=X4]\n",
      "\t[X4=a,leaf][{'e': 273, 'p': 31}]\n",
      "\t[X4=c,leaf][{'e': 10, 'p': 137}]\n",
      "\t[X4=f,leaf][{'e': 170, 'p': 1438}]\n",
      "\t[X4=l,leaf][{'e': 272, 'p': 27}]\n",
      "\t[X4=m,leaf][{'e': 2, 'p': 25}]\n",
      "\t[X4=n,leaf][{'e': 2332, 'p': 344}]\n",
      "\t[X4=p,leaf][{'e': 8, 'p': 175}]\n",
      "\t[X4=s,leaf][{'e': 38, 'p': 380}]\n",
      "\t[X4=y,leaf][{'e': 49, 'p': 382}]\n"
     ]
    }
   ],
   "source": [
    "#### Your code here ####\n",
    "\n",
    "#Find the best test accuracy and with less than 50 nodes from depth prunning dict\n",
    "best_accuracy_under_50_depth_pruning = 0\n",
    "root_depth_pruning = None\n",
    "for key in dict_depth_pruning:\n",
    "    if ((count_nodes(key) < 50) and (dict_depth_pruning[key] > best_accuracy_under_50_depth_pruning)):\n",
    "        root_depth_pruning = key\n",
    "        best_accuracy_under_50_depth_pruning = dict_depth_pruning[key]\n",
    "\n",
    "#Find the best test accuracy and with less than 50 nodes from min samples dict\n",
    "best_accuracy_under_50_min_Samples_split = 0\n",
    "root_min_Samples_split = None\n",
    "for key in dict_min_Samples_split:\n",
    "    if ((count_nodes(key) < 50) and (dict_depth_pruning[key] > best_accuracy_under_50_min_Samples_split)):\n",
    "        root_min_Samples_split = key\n",
    "        best_accuracy_under_50_min_Samples_split = dict_depth_pruning[key]\n",
    "\n",
    "#prints the accurest one\n",
    "if(best_accuracy_under_50_depth_pruning > best_accuracy_under_50_min_Samples_split):\n",
    "    print_tree(root_depth_pruning, 1000)\n",
    "else:\n",
    "    print_tree(root_min_Samples_split, 1000)"
   ]
  }
 ],
 "metadata": {
  "celltoolbar": "Create Assignment",
  "kernelspec": {
   "display_name": "Python 3 (ipykernel)",
   "language": "python",
   "name": "python3"
  },
  "language_info": {
   "codemirror_mode": {
    "name": "ipython",
    "version": 3
   },
   "file_extension": ".py",
   "mimetype": "text/x-python",
   "name": "python",
   "nbconvert_exporter": "python",
   "pygments_lexer": "ipython3",
   "version": "3.8.12"
  }
 },
 "nbformat": 4,
 "nbformat_minor": 4
}
