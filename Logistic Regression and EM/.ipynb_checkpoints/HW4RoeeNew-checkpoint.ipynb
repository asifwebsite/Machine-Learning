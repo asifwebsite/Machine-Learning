{
 "cells": [
  {
   "cell_type": "markdown",
   "metadata": {
    "id": "HMy4cI8BT1DA"
   },
   "source": [
    "# Exercise 4: Logistic Regression, Bayes and EM\n",
    "\n",
    "In this assignment you will implement several algorithms as learned in class.\n",
    "\n",
    "## Read the following instructions carefully:\n",
    "\n",
    "1. This jupyter notebook contains all the step by step instructions needed for this exercise.\n",
    "2. Write **efficient vectorized** code whenever possible. Some calculations in this exercise take several minutes when implemented efficiently, and might take much longer otherwise. Unnecessary loops will result in point deduction.\n",
    "3. You are responsible for the correctness of your code and should add as many tests as you see fit. Tests will not be graded nor checked.\n",
    "4. Write your functions in this notebook only. **Do not create Python modules and import them**.\n",
    "5. You are allowed to use functions and methods from the [Python Standard Library](https://docs.python.org/3/library/) and [numpy](https://www.numpy.org/devdocs/reference/) and pandas. \n",
    "6. Your code must run without errors. During the environment setup, you were given a specific version of `numpy` to install (1.15.4). Changes of the configuration we provided are at your own risk. Any code that cannot run will not be graded.\n",
    "7. Write your own code. Cheating will not be tolerated.\n",
    "8. Submission includes this notebook only with the exercise number and your ID as the filename. For example: `hw4_123456789_987654321.ipynb` if you submitted in pairs and `hw4_123456789.ipynb` if you submitted the exercise alone.\n",
    "9. Answers to qualitative questions should be written in **markdown** cells (with $\\LaTeX$ support). Answers that will be written in commented code blocks will not be checked.\n",
    "\n",
    "## In this exercise you will perform the following:\n",
    "1. Implement Logistic Regression algorithm.\n",
    "1. Implement EM algorithm.\n",
    "1. Implement Navie Bayes algorithm that uses EM for calculating the likelihood.\n",
    "1. Visualize your results."
   ]
  },
  {
   "cell_type": "markdown",
   "metadata": {
    "id": "f2OeFm80T1DG"
   },
   "source": [
    "# I have read and understood the instructions: *** YOUR ID HERE ***"
   ]
  },
  {
   "cell_type": "code",
   "execution_count": 1,
   "metadata": {
    "id": "TgamjypCT1DH"
   },
   "outputs": [],
   "source": [
    "import numpy as np\n",
    "import pandas as pd\n",
    "from matplotlib.colors import ListedColormap\n",
    "import matplotlib.pyplot as plt\n",
    "\n",
    "# make matplotlib figures appear inline in the notebook\n",
    "%matplotlib inline\n",
    "plt.rcParams['figure.figsize'] = (10.0, 8.0) # set default size of plots\n",
    "plt.rcParams['image.interpolation'] = 'nearest'\n",
    "plt.rcParams['image.cmap'] = 'gray'\n",
    "\n",
    "# Make the notebook automatically reload external python modules\n",
    "%load_ext autoreload\n",
    "%autoreload 2\n",
    "# Ignore warnings\n",
    "import warnings\n",
    "warnings.filterwarnings('ignore')"
   ]
  },
  {
   "cell_type": "code",
   "execution_count": 2,
   "metadata": {
    "id": "Lb2_2M6PT1DJ"
   },
   "outputs": [],
   "source": [
    "# Function for ploting the decision boundaries of a model\n",
    "# You will use it later\n",
    "def plot_decision_regions(X, y, classifier, resolution=0.01):\n",
    "\n",
    "    # setup marker generator and color map\n",
    "    markers = ('.', '.')\n",
    "    colors = ('blue', 'red')\n",
    "    cmap = ListedColormap(colors[:len(np.unique(y))])\n",
    "    # plot the decision surface\n",
    "    x1_min, x1_max = X[:, 0].min() - 1, X[:, 0].max() + 1\n",
    "    x2_min, x2_max = X[:, 1].min() - 1, X[:, 1].max() + 1\n",
    "    xx1, xx2 = np.meshgrid(np.arange(x1_min, x1_max, resolution),\n",
    "                           np.arange(x2_min, x2_max, resolution))\n",
    "    Z = classifier.predict(np.array([xx1.ravel(), xx2.ravel()]).T)\n",
    "    Z = Z.reshape(xx1.shape)\n",
    "    plt.contourf(xx1, xx2, Z, alpha=0.3, cmap=cmap)\n",
    "    plt.xlim(xx1.min(), xx1.max())\n",
    "    plt.ylim(xx2.min(), xx2.max())\n",
    "\n",
    "    for idx, cl in enumerate(np.unique(y)):\n",
    "        plt.scatter(x=X[y == cl, 0], \n",
    "                    y=X[y == cl, 1],\n",
    "                    alpha=0.8, \n",
    "                    c=colors[idx],\n",
    "                    marker=markers[idx], \n",
    "                    label=cl, \n",
    "                    edgecolor='black')"
   ]
  },
  {
   "cell_type": "markdown",
   "metadata": {
    "id": "jsVVaV_oT1DK"
   },
   "source": [
    "## Reading the data"
   ]
  },
  {
   "cell_type": "code",
   "execution_count": 3,
   "metadata": {
    "id": "fLAhZptFT1DK"
   },
   "outputs": [],
   "source": [
    "training_set = pd.read_csv('training_set.csv')\n",
    "test_set = pd.read_csv('test_set.csv')\n",
    "X_training, y_training = training_set[['x1', 'x2']].values, training_set['y'].values\n",
    "X_test, y_test = test_set[['x1', 'x2']].values, test_set['y'].values"
   ]
  },
  {
   "cell_type": "markdown",
   "metadata": {
    "id": "4LIUy8yCT1DK"
   },
   "source": [
    "## Visualizing the data\n",
    "(2 points each - 8 points total)\n",
    "\n",
    "Plot the following graphs for the training set:\n",
    "\n",
    "For the first feature only:\n",
    "1. For the first 1000 data points plot a histogram for each class on the same graph (use bins=20, alpha=0.5).\n",
    "1. For all the data points plot a histogram for each class on the same graph (use bins=40, alpha=0.5).\n",
    "\n",
    "For both features:\n",
    "1. For the first 1000 data points plot a scatter plot where each class has different color\n",
    "1. For all the data points plot a scatter plot where each class has different color"
   ]
  },
  {
   "cell_type": "code",
   "execution_count": 13,
   "metadata": {
    "colab": {
     "base_uri": "https://localhost:8080/"
    },
    "id": "PwRjHl0GcBvy",
    "outputId": "b097d960-e253-47b3-d089-20c6921c544a"
   },
   "outputs": [
    {
     "name": "stdout",
     "output_type": "stream",
     "text": [
      "1000\n",
      "500\n",
      "500\n"
     ]
    }
   ],
   "source": [
    "X_training_first1000_samples = X_training[0:1000]\n",
    "y_training_first1000_samples = y_training[0:1000]\n",
    "X_training_first1000_samples_Class0 = X_training_first1000_samples[y_training_first1000_samples == 0]\n",
    "X_training_first1000_samples_Class1 = X_training_first1000_samples[y_training_first1000_samples == 1]\n",
    "X_training_Class0 = X_training[y_training == 0]\n",
    "X_training_Class1 = X_training[y_training == 1]\n",
    "print(len(y_training_first1000_samples))\n",
    "print(len(X_training_first1000_samples_Class0))\n",
    "print(len(X_training_first1000_samples_Class1))\n",
    "hist_array, bin_array = np.histogram(X_training_first1000_samples, bins=20)"
   ]
  },
  {
   "cell_type": "code",
   "execution_count": 10,
   "metadata": {
    "colab": {
     "base_uri": "https://localhost:8080/",
     "height": 281
    },
    "id": "sIZj9L7iT1DL",
    "outputId": "238c7395-1945-43f6-9834-b4f0662b2cec"
   },
   "outputs": [
    {
     "data": {
      "image/png": "[encoded data removed]",
      "text/plain": [
       "<Figure size 432x288 with 1 Axes>"
      ]
     },
     "metadata": {
      "needs_background": "light"
     },
     "output_type": "display_data"
    }
   ],
   "source": [
    "# Normalize\n",
    "kwargs = dict(alpha=0.5, bins=20, density=True, stacked=True)\n",
    "\n",
    "# Plot\n",
    "plt.hist(X_training_first1000_samples_Class0[:,0], **kwargs, color='g', label='class 0')\n",
    "plt.hist(X_training_first1000_samples_Class1[:,0], **kwargs, color='b', label='class 1')\n",
    "plt.gca().set(title='Probability Histogram of 1000 first samples of first feature', ylabel='Probability')\n",
    "plt.legend();"
   ]
  },
  {
   "cell_type": "code",
   "execution_count": 14,
   "metadata": {
    "colab": {
     "base_uri": "https://localhost:8080/",
     "height": 281
    },
    "id": "s_mp9ffVfDDL",
    "outputId": "62bf2e37-d38e-4ffc-d09c-739f2156203f"
   },
   "outputs": [
    {
     "data": {
      "image/png": "[encoded data removed]",
      "text/plain": [
       "<Figure size 432x288 with 1 Axes>"
      ]
     },
     "metadata": {
      "needs_background": "light"
     },
     "output_type": "display_data"
    }
   ],
   "source": [
    "# Normalize\n",
    "kwargs = dict(alpha=0.5, bins=40, density=True, stacked=True)\n",
    "\n",
    "# Plot\n",
    "plt.hist(X_training_Class0[:,0], **kwargs, color='g', label='class 0')\n",
    "plt.hist(X_training_Class1[:,0], **kwargs, color='b', label='class 1')\n",
    "plt.gca().set(title='Probability Histogram of all samples of first feature', ylabel='Probability')\n",
    "plt.legend();"
   ]
  },
  {
   "cell_type": "code",
   "execution_count": 15,
   "metadata": {
    "colab": {
     "base_uri": "https://localhost:8080/",
     "height": 295
    },
    "id": "QBRIZHTTf6c_",
    "outputId": "d6a3215b-16e7-47a8-9d89-20a853377f93"
   },
   "outputs": [
    {
     "data": {
      "image/png": "[encoded data removed]",
      "text/plain": [
       "<Figure size 432x288 with 1 Axes>"
      ]
     },
     "metadata": {
      "needs_background": "light"
     },
     "output_type": "display_data"
    }
   ],
   "source": [
    "plt.scatter(X_training_first1000_samples_Class0[:,0],X_training_first1000_samples_Class0[:,1],color='green')\n",
    "plt.scatter(X_training_first1000_samples_Class1[:,0],X_training_first1000_samples_Class1[:,1],color='blue')\n",
    "plt.title('first 1000 samples scatter plot')\n",
    "plt.xlabel('X1 feature')\n",
    "plt.ylabel('X2 feature')\n",
    "plt.legend(['class 0', 'class 1'])\n",
    "plt.show()"
   ]
  },
  {
   "cell_type": "code",
   "execution_count": 16,
   "metadata": {
    "colab": {
     "base_uri": "https://localhost:8080/",
     "height": 295
    },
    "id": "Vn6TWkErhc6A",
    "outputId": "2e222f30-215e-4f89-9f6a-8aea0d7e1179"
   },
   "outputs": [
    {
     "data": {
      "image/png": "[encoded data removed]",
      "text/plain": [
       "<Figure size 432x288 with 1 Axes>"
      ]
     },
     "metadata": {
      "needs_background": "light"
     },
     "output_type": "display_data"
    }
   ],
   "source": [
    "plt.scatter(X_training_Class0[:,0],X_training_Class0[:,1],color='green')\n",
    "plt.scatter(X_training_Class1[:,0],X_training_Class1[:,1],color='blue')\n",
    "plt.title('all samples scatter plot')\n",
    "plt.xlabel('X1 feature')\n",
    "plt.ylabel('X2 feature')\n",
    "plt.legend(['class 0', 'class 1'])\n",
    "plt.show()"
   ]
  },
  {
   "cell_type": "markdown",
   "metadata": {
    "id": "5gKhHEo0T1DM"
   },
   "source": [
    "## Logistic Regression\n",
    "\n",
    "(15 Points)\n",
    "\n",
    "Implement the Logistic Regression algorithm that uses gradient descent for finding the optimal theta vector. \n",
    "\n",
    "Where:\n",
    "$$\n",
    "h_\\theta(x) = \\frac{1}{1 + e^{-\\theta^T x}}\n",
    "$$\n",
    "\n",
    "$$\n",
    "J(\\theta)=\\frac{1}{m} \\sum_{d=1}^{m} - y^{(d)}ln(h_\\theta(x^{(d)}) - (1 - y^{(d)})ln(1 - h_\\theta(x^{(d)})\n",
    "$$\n",
    "\n",
    "Your class should contain the following functions:\n",
    "1. fit - the learning function\n",
    "1. predict - the function for predicting an instance after the fit function was executed\n",
    "\n",
    "\\* You can add more functions if you think this is necessary\n",
    "\n",
    "Your model should also store a list of the costs that you've calculated in each iteration"
   ]
  },
  {
   "cell_type": "code",
   "execution_count": 17,
   "metadata": {
    "id": "3Au3vYIRT1DM"
   },
   "outputs": [],
   "source": [
    "class LogisticRegressionGD(object):\n",
    "    \"\"\"\n",
    "    Logistic Regression Classifier using gradient descent.\n",
    "\n",
    "    Parameters\n",
    "    ------------\n",
    "    eta : float\n",
    "      Learning rate (between 0.0 and 1.0)\n",
    "    n_iter : int\n",
    "      Passes over the training dataset.\n",
    "    eps : float\n",
    "      minimal change in the cost to declare convergence\n",
    "    random_state : int\n",
    "      Random number generator seed for random weight\n",
    "      initialization.\n",
    "    \"\"\"\n",
    "    \n",
    "    def __init__(self, eta=0.00005, n_iter=10000, eps=0.000001, random_state=1):\n",
    "        self.eta = eta\n",
    "        self.n_iter = n_iter\n",
    "        self.eps = eps\n",
    "        self.random_state = random_state\n",
    "        np.random.seed(random_state)\n",
    "        self.thetaVector = np.random.random(2)\n",
    "\n",
    "    def fit(self, X, y):\n",
    "        \"\"\" \n",
    "        Fit training data (the learning phase).\n",
    "        Updating the theta vector in each iteration using gradient descent.\n",
    "        Store the theta vector in an attribute of the LogisticRegressionGD object.\n",
    "        Stop the function when the difference between the previous cost and the current is less than eps\n",
    "        or when you reach n_iter.\n",
    "\n",
    "        Parameters\n",
    "        ----------\n",
    "        X : {array-like}, shape = [n_examples, n_features]\n",
    "          Training vectors, where n_examples is the number of examples and\n",
    "          n_features is the number of features.\n",
    "        y : array-like, shape = [n_examples]\n",
    "          Target values.\n",
    "\n",
    "        \"\"\"\n",
    "        J_history = np.array([])\n",
    "\n",
    "        for k in range(self.n_iter):          # loop on num of iterates\n",
    "          tempThetas = self.thetaVector.copy()\n",
    "          J_history = np.append(J_history, self.compute_cost(X,y))\n",
    "\n",
    "          if (k>0 and J_history[k-1] - J_history[k] < self.eps):\n",
    "            break\n",
    "\n",
    "          h_theta_X_array = self.h_theta(X)\n",
    "          h_theta_X_array = h_theta_X_array - y\n",
    "\n",
    "          for j in range(len(self.thetaVector)):       # loop on theta vector\n",
    "            h_theta_X_array = h_theta_X_array * X[:,j]\n",
    "            result = np.sum(h_theta_X_array)\n",
    "            tempThetas[j] = tempThetas[j] - self.eta * result\n",
    "              \n",
    "          self.thetaVector = tempThetas.copy()\n",
    "\n",
    "        return J_history\n",
    "\n",
    "\n",
    "    def predict(self, X_sample):\n",
    "        \"\"\"Return the predicted class label\"\"\"\n",
    "        if (np.inner(self.thetaVector, X_sample) > 0):\n",
    "          return 1\n",
    "        else:\n",
    "          return 0\n",
    "\n",
    "    def h_theta(self,X):\n",
    "      X_theta_MatMul = -np.matmul(X, self.thetaVector)\n",
    "      X_theta_MatMul = np.exp(X_theta_MatMul)\n",
    "      return 1 / (1 + X_theta_MatMul)\n",
    "\n",
    "    def compute_cost (self,X,y):\n",
    "      h_theta_X_array = self.h_theta(X)\n",
    "      ln_h_theta = np.log(h_theta_X_array)\n",
    "      ln_1_minus_h_theta = np.log(1 - h_theta_X_array)\n",
    "      result_array = ((-y) * ln_h_theta) - ((1 - y) * ln_1_minus_h_theta)\n",
    "      J = np.sum(result_array)\n",
    "      return J / len(X)"
   ]
  },
  {
   "cell_type": "code",
   "execution_count": null,
   "metadata": {
    "colab": {
     "base_uri": "https://localhost:8080/"
    },
    "id": "l_As2C6cqcqC",
    "outputId": "55f07154-eef2-466a-a397-75885c07925b"
   },
   "outputs": [
    {
     "name": "stdout",
     "output_type": "stream",
     "text": [
      "[[1 2 3]\n",
      " [4 5 6]]\n",
      "(3,)\n",
      "(3,)\n",
      "[ 6 15]\n"
     ]
    }
   ],
   "source": [
    "def add2(x):\n",
    "  print (x.shape)\n",
    "  return x[0] + x[1] + x[2]\n",
    "arr = np.array([[1,2,3],[4,5,6]])\n",
    "print(arr)\n",
    "arr2 = np.apply_along_axis(add2,1, arr)\n",
    "print (arr2)"
   ]
  },
  {
   "cell_type": "code",
   "execution_count": null,
   "metadata": {
    "colab": {
     "base_uri": "https://localhost:8080/"
    },
    "id": "jvWMQPmRtTIE",
    "outputId": "479a1005-c1cb-4861-a0fd-d7009772ce47"
   },
   "outputs": [
    {
     "name": "stdout",
     "output_type": "stream",
     "text": [
      "[1 2]\n",
      "8\n"
     ]
    }
   ],
   "source": [
    "arr1 = np.array([1,2])\n",
    "theta1 = np.array([2,3])\n",
    "print (arr1)\n",
    "matmul = np.matmul(arr1,theta1)\n",
    "#matmul = -matmul\n",
    "print (matmul)\n",
    "#print (np.exp(matmul))\n",
    "\n",
    "\n",
    "#arr2 = np.array([1,2,3])\n",
    "#print (1 / (1 + arr2))"
   ]
  },
  {
   "cell_type": "markdown",
   "metadata": {
    "id": "u5rxpveST1DN"
   },
   "source": [
    "## Cross Validation\n",
    "\n",
    "(5 points)\n",
    "\n",
    "Use 5-fold cross validation in order to find the best eps and eta params from the given lists.\n",
    "\n",
    "Shuffle the training set before you split the data to the folds."
   ]
  },
  {
   "cell_type": "code",
   "execution_count": 36,
   "metadata": {
    "colab": {
     "base_uri": "https://localhost:8080/"
    },
    "id": "-jDZ0semUUOt",
    "outputId": "a8127075-cc48-45cb-e654-9627ba108d15"
   },
   "outputs": [
    {
     "name": "stdout",
     "output_type": "stream",
     "text": [
      "[[0.]\n",
      " [0.]\n",
      " [0.]]\n"
     ]
    }
   ],
   "source": [
    "arr = np.zeros((3,1))\n",
    "print (arr)"
   ]
  },
  {
   "cell_type": "code",
   "execution_count": 30,
   "metadata": {
    "id": "Bj8HyMU6Rpwo"
   },
   "outputs": [],
   "source": [
    "training_set_shuffled = training_set.values.copy()\n",
    "np.random.seed(1)\n",
    "np.random.shuffle(training_set_shuffled)\n",
    "X_training_shuffled, y_training_shuffled = training_set_shuffled[:,0:2] , training_set_shuffled[:,2]"
   ]
  },
  {
   "cell_type": "code",
   "execution_count": 37,
   "metadata": {
    "id": "shzUukB6T1DN",
    "scrolled": true
   },
   "outputs": [],
   "source": [
    "#### Your code here ####\n",
    "etas = [0.05, 0.005, 0.0005, 0.00005, 0.000005]\n",
    "epss = [0.01, 0.001, 0.0001, 0.00001, 0.000001]\n",
    "\n",
    "foldLength = (int)(len(X_training) / 5)\n",
    "accuracy_dict = {}\n",
    "for eta in etas:\n",
    "  for eps in epss:\n",
    "    accuracy_dict[(eta,eps)] = 0\n",
    "\n",
    "for i in range(5):\n",
    "  X_test_fold = X_training_shuffled[i * foldLength : (i+1) * foldLength]\n",
    "  X_training_fold = np.vstack((X_training_shuffled[: i * foldLength] , X_training_shuffled[(i+1) * foldLength :]))\n",
    "  y_test_fold = y_training_shuffled[i * foldLength : (i+1) * foldLength]\n",
    "  y_training_fold = np.append(y_training_shuffled[: i * foldLength] , y_training_shuffled[(i+1) * foldLength :])\n",
    "\n",
    "  for eta in etas:\n",
    "    for eps in epss:\n",
    "      currectPredicts = 0\n",
    "      LogisticClassifier = LogisticRegressionGD(eta, 10000, eps)\n",
    "      LogisticClassifier.fit(X_training_fold, y_training_fold)\n",
    "\n",
    "      for i in range(len(X_test_fold)):\n",
    "        predict_class = LogisticClassifier.predict(X_test_fold[i,:])\n",
    "        if (predict_class == y_test_fold[i]):\n",
    "          currectPredicts += 1\n",
    "      \n",
    "      accuracy_dict[(eta,eps)] += currectPredicts / (len(y_test_fold)*5)\n"
   ]
  },
  {
   "cell_type": "code",
   "execution_count": 40,
   "metadata": {
    "colab": {
     "base_uri": "https://localhost:8080/"
    },
    "id": "qqexrGUrP54J",
    "outputId": "9b9c72ea-25e3-456b-a984-9476336e6eec"
   },
   "outputs": [
    {
     "name": "stdout",
     "output_type": "stream",
     "text": [
      "best eta:  5e-05 \n",
      "best eps:  0.01 \n",
      "average accuracy is:  0.6855\n"
     ]
    }
   ],
   "source": [
    "maxEfficientEtaAndEps = max(accuracy_dict, key=accuracy_dict.get)\n",
    "print (\"best eta: \" , maxEfficientEtaAndEps[0], \"\\nbest eps: \", maxEfficientEtaAndEps[1], \"\\naverage accuracy is: \", max(accuracy_dict.values()))"
   ]
  },
  {
   "cell_type": "code",
   "execution_count": null,
   "metadata": {
    "colab": {
     "base_uri": "https://localhost:8080/"
    },
    "id": "gv8IYh6mvKDu",
    "outputId": "10fca8f5-e6c2-494b-c707-f023dbd83c09"
   },
   "outputs": [
    {
     "name": "stdout",
     "output_type": "stream",
     "text": [
      "[1 2 3 4 5 6]\n",
      "[1]\n",
      "[4 5 6]\n",
      "[1 4 5 6]\n"
     ]
    }
   ],
   "source": [
    "arr = np.array([1,2,3,4,5,6])\n",
    "print(arr)\n",
    "print(arr[0:1])\n",
    "print(arr[3:])\n",
    "print (np.append(arr[0:1],arr[3:]))"
   ]
  },
  {
   "cell_type": "code",
   "execution_count": null,
   "metadata": {
    "colab": {
     "base_uri": "https://localhost:8080/"
    },
    "id": "gr2EY1CM0_0Z",
    "outputId": "2fbaff80-b26b-4441-f040-464d825dcdd3"
   },
   "outputs": [
    {
     "name": "stdout",
     "output_type": "stream",
     "text": [
      "2000\n",
      "2000\n"
     ]
    }
   ],
   "source": [
    "print (len(X_training))\n",
    "print (len(y_training))"
   ]
  },
  {
   "cell_type": "markdown",
   "metadata": {
    "id": "X_C3s5oyT1DN"
   },
   "source": [
    "## Normal distribution pdf\n",
    "\n",
    "(2 Points)\n",
    "\n",
    "Implement the normal distribution pdf \n",
    "$$\n",
    "f(x;\\mu,\\sigma) = \\frac{1}{\\sigma\\sqrt{2\\pi}}e^{-\\frac{1}{2}\\big{(}\\frac{x-\\mu}{\\sigma}\\big{)}^2}\n",
    "$$\n",
    "Write an efficient vectorized code"
   ]
  },
  {
   "cell_type": "code",
   "execution_count": null,
   "metadata": {
    "id": "xdgeoeWyT1DO"
   },
   "outputs": [],
   "source": [
    "#### Your code here ####\n",
    "# calc normal pdf    \n",
    "def norm_pdf(data, mu, sigma):\n",
    "    arg1 = 1 / (sigma * np.power(2 * np.pi, 0.5))\n",
    "    arg2 = (data - mu) / sigma\n",
    "    arg2 = (-0.5) * np.power(arg2, 2)\n",
    "    arg3 = np.exp(arg2)\n",
    "    \n",
    "    return arg1 * arg3"
   ]
  },
  {
   "cell_type": "markdown",
   "metadata": {
    "id": "_otLkLf7T1DO"
   },
   "source": [
    "## Expectation Maximization\n",
    "\n",
    "(15 Points)\n",
    "\n",
    "Implement the Expectation Maximization algorithm for gaussian mixture model.\n",
    "\n",
    "The class should hold the distribution params.\n",
    "\n",
    "Use -log likelihood as the cost function:\n",
    "$$\n",
    "cost(x) = \\sum_{d=1}^{m}-log(w * pdf(x; \\mu, \\sigma))\n",
    "$$\n",
    "\n",
    "\\* The above is the cost of one gaussian. Think how to use the cost function for gaussian mixture.\n",
    "\n",
    "Your class should contain the following functions:\n",
    "1. init_params - initialize distribution params\n",
    "1. expectation - calculating responsibilities\n",
    "1. maximization - updating distribution params\n",
    "1. fit - the learning function\n",
    "1. get_dist_params - return the distribution params\n",
    "\n",
    "\\* You can add more functions if you think this is necessary\n",
    "\n",
    "Don't change the eps params (eps=0.01)\n",
    "\n",
    "When you need to calculate the pdf of a normal distribution use the function `norm_pdf` that you implemented above."
   ]
  },
  {
   "cell_type": "code",
   "execution_count": null,
   "metadata": {
    "id": "dh9IxsG4T1DO"
   },
   "outputs": [],
   "source": [
    "class EM(object):\n",
    "    \"\"\"\n",
    "    Naive Bayes Classifier using Gauusian Mixture Model (EM) for calculating the likelihood.\n",
    "\n",
    "    Parameters\n",
    "    ------------\n",
    "    k : int\n",
    "      Number of gaussians in each dimension\n",
    "    n_iter : int\n",
    "      Passes over the training dataset in the EM proccess\n",
    "    eps: float\n",
    "      minimal change in the cost to declare convergence\n",
    "    random_state : int\n",
    "      Random number generator seed for random params initialization.\n",
    "    \"\"\"\n",
    "    \n",
    "    def __init__(self, k=1, n_iter=1000, eps=0.01):\n",
    "        self.k = k\n",
    "        self.n_iter = n_iter\n",
    "        self.eps = eps\n",
    "        arr = [[0.0]*3]*self.k\n",
    "        self.ParamsArray = np.array(arr)\n",
    "\n",
    "    # initial guesses for parameters\n",
    "    def init_params(self, data):                                                  # each row is a k gaussian, row = [miu, sigma, weight]\n",
    "        \"\"\"\n",
    "        Initialize distribution params\n",
    "        \"\"\"\n",
    "        weight = 1/self.k\n",
    "        for i in range(self.k):\n",
    "          np.random.seed(42 + i)\n",
    "          params = np.random.random(2)\n",
    "          self.ParamsArray[i][0] = params[0]\n",
    "          self.ParamsArray[i][1] = params[1]\n",
    "          self.ParamsArray[i][2] = weight\n",
    "\n",
    "    def expectation(self, data):                    # data is a vector of samples of one feature (1 dimension)\n",
    "        \"\"\"\n",
    "        E step - calculating responsibilities\n",
    "        \"\"\"\n",
    "        responsibilities = np.zeros(len(data))\n",
    "        \n",
    "        for i in range(self.k):\n",
    "          numerator = self.ParamsArray[i][2] * norm_pdf(data, self.ParamsArray[i][0], self.ParamsArray[i][1])\n",
    "          denomenator = np.zeros(len(data))\n",
    "\n",
    "          for j in range(self.k):\n",
    "            denomenator += self.ParamsArray[j][2] * norm_pdf(data, self.ParamsArray[j][0], self.ParamsArray[j][1])\n",
    "\n",
    "          responsibilities = np.vstack((responsibilities, numerator / denomenator))          \n",
    "\n",
    "        responsibilities = np.delete(responsibilities,0,axis=0)\n",
    "        return responsibilities                                       # array of responsibilities , k rows, len(data) columns\n",
    "\n",
    "    def maximization(self, data, responsibilities):\n",
    "        \"\"\"\n",
    "        M step - updating distribution params\n",
    "        \"\"\"\n",
    "                      \n",
    "        for k in range(self.k):\n",
    "          self.ParamsArray[k][2] = np.sum(responsibilities[k,:]) / len(data)\n",
    "          self.ParamsArray[k][0] = np.sum(responsibilities[k,:] * data) / (self.ParamsArray[k][2] * len(data))\n",
    "          self.ParamsArray[k][1] = np.sum(responsibilities[k,:] * (data - self.ParamsArray[k][0]) * (data - self.ParamsArray[k][0])) / (self.ParamsArray[k][2] * len(data))\n",
    "          self.ParamsArray[k][1] = np.power(self.ParamsArray[k][1], 0.5)\n",
    "\n",
    "    def fit(self, data):\n",
    "        \"\"\" \n",
    "        Fit training data (the learning phase).\n",
    "        Use init_params and then expectation and maximization function in order to find params \n",
    "        for the distribution. \n",
    "        Store the params in attributes of the EM object.\n",
    "        Stop the function when the difference between the previous cost and the current is less than eps\n",
    "        or when you reach n_iter.\n",
    "        \"\"\"\n",
    "\n",
    "        self.init_params(data)\n",
    "        prevCost = 0\n",
    "        currentCost = 0\n",
    "        prevCost = costLogLikelihood_Waverage(data, self.ParamsArray)\n",
    "        currentCost = prevCost\n",
    "\n",
    "        for i in range(self.n_iter):\n",
    "\n",
    "          if (i > 0) and (np.abs(currentCost - prevCost) < self.eps):\n",
    "            break\n",
    "\n",
    "          responsibilities = self.expectation(data)\n",
    "          self.maximization(data, responsibilities)\n",
    "\n",
    "          prevCost = currentCost\n",
    "          currentCost = costLogLikelihood_Waverage(data, self.ParamsArray)\n",
    "\n",
    "    def get_dist_params(self):\n",
    "        return self.ParamsArray\n",
    "\n",
    "    "
   ]
  },
  {
   "cell_type": "code",
   "execution_count": null,
   "metadata": {
    "id": "QQFU-tRcMeXG"
   },
   "outputs": [],
   "source": [
    "# cost log likelihood calculation\n",
    "\n",
    "def costLogLikelihood(data, miu, sigma, weight):\n",
    "  dataPdf = norm_pdf(data, miu, sigma)\n",
    "  dataPdf = weight * dataPdf\n",
    "  dataPdf = -(np.log2(dataPdf))\n",
    "  result = np.sum(dataPdf)\n",
    "  \n",
    "  return result\n",
    "\n",
    "def costLogLikelihood_Waverage(data ,ParamsArray):\n",
    "  k = ParamsArray.shape[0]\n",
    "\n",
    "  AverageSum = 0\n",
    "  for i in range(k):\n",
    "    cost = costLogLikelihood(data, ParamsArray[i][0], ParamsArray[i][1], ParamsArray[i][2])\n",
    "    AverageSum += cost\n",
    "  \n",
    "  return AverageSum"
   ]
  },
  {
   "cell_type": "code",
   "execution_count": null,
   "metadata": {
    "colab": {
     "base_uri": "https://localhost:8080/"
    },
    "id": "a4RFGSQ048hB",
    "outputId": "681551a5-8426-4ab3-e635-81a8d3b75071"
   },
   "outputs": [
    {
     "name": "stdout",
     "output_type": "stream",
     "text": [
      "[[0. 0. 0.]\n",
      " [0. 0. 0.]]\n",
      "[[0. 0. 0.]\n",
      " [0. 2. 0.]]\n"
     ]
    }
   ],
   "source": [
    "arr = [[0.0]*3]*2\n",
    "arr2 = np.array(arr)\n",
    "print (arr2)\n",
    "arr2[1][1] = 2\n",
    "print (arr2)"
   ]
  },
  {
   "cell_type": "code",
   "execution_count": null,
   "metadata": {
    "colab": {
     "base_uri": "https://localhost:8080/"
    },
    "id": "cmEaH4EqPt_F",
    "outputId": "c05eced6-0bd0-4436-aeb7-75916af6721a"
   },
   "outputs": [
    {
     "name": "stdout",
     "output_type": "stream",
     "text": [
      "[[0.  1.  0.2]\n",
      " [2.  3.  0.8]]\n",
      "41308.411219596135\n"
     ]
    }
   ],
   "source": [
    "arr3 = np.array([[0,1,0.2],[2,3,0.8]])\n",
    "print (arr3)\n",
    "\n",
    "print (costLogLikelihood_Waverage(X_training[:,0], arr3))"
   ]
  },
  {
   "cell_type": "code",
   "execution_count": null,
   "metadata": {
    "colab": {
     "base_uri": "https://localhost:8080/"
    },
    "id": "HsrkFR3IXDL3",
    "outputId": "c1fde0bc-77f3-4ff6-bd24-8eedf9a87a51"
   },
   "outputs": [
    {
     "name": "stdout",
     "output_type": "stream",
     "text": [
      "params array for init:\n",
      "[[0.37454012 0.95071431 0.5       ]\n",
      " [0.11505457 0.60906654 0.5       ]]\n",
      "respons for iterate:  0\n",
      "[[5.97208021e-01 9.46952437e-01 9.99051424e-01 9.99996716e-01]\n",
      " [4.02791979e-01 5.30475627e-02 9.48576272e-04 3.28393983e-06]]\n",
      "params array for iterate:  0\n",
      "[[2.67787057 1.05826294 0.88580215]\n",
      " [1.12030561 0.33170547 0.11419785]]\n",
      "respons for iterate:  1\n",
      "[[4.24897243e-01 9.85224746e-01 9.99999954e-01 1.00000000e+00]\n",
      " [5.75102757e-01 1.47752537e-02 4.58373825e-08 3.86475633e-17]]\n",
      "params array for iterate:  1\n",
      "[[2.75513508 1.01024406 0.85253049]\n",
      " [1.02504814 0.15627182 0.14746951]]\n",
      "respons for iterate:  2\n",
      "[[1.66854215e-01 9.99999995e-01 1.00000000e+00 1.00000000e+00]\n",
      " [8.33145785e-01 5.22235443e-09 2.39411832e-35 4.81084774e-79]]\n",
      "params array for iterate:  2\n",
      "[[2.89462463e+00 9.11695296e-01 7.91713552e-01]\n",
      " [1.00000001e+00 7.91721918e-05 2.08286448e-01]]\n",
      "respons for iterate:  3\n",
      "[[3.80919209e-05 1.00000000e+00 1.00000000e+00 1.00000000e+00]\n",
      " [9.99961908e-01 0.00000000e+00 0.00000000e+00 0.00000000e+00]]\n",
      "params array for iterate:  3\n",
      "[[2.99997461 0.8165225  0.75000952]\n",
      " [1.         0.         0.24999048]]\n",
      "respons for iterate:  4\n",
      "[[nan nan nan nan]\n",
      " [nan nan nan nan]]\n",
      "params array for iterate:  4\n",
      "[[nan nan nan]\n",
      " [nan nan nan]]\n"
     ]
    }
   ],
   "source": [
    "testdata = np.array([1,2,3,4])\n",
    "EM1 = EM(2)\n",
    "EM1.init_params(testdata)\n",
    "print (\"params array for init:\")\n",
    "print (EM1.ParamsArray)\n",
    "\n",
    "for i in range(5):\n",
    "  resp = EM1.expectation(testdata)\n",
    "  print (\"respons for iterate: \", i)\n",
    "  print (resp)\n",
    "  EM1.maximization(testdata,resp)\n",
    "  print (\"params array for iterate: \", i)\n",
    "  print (EM1.ParamsArray)"
   ]
  },
  {
   "cell_type": "markdown",
   "metadata": {
    "id": "t96iBBiNT1DO"
   },
   "source": [
    "## Naive Bayes\n",
    "\n",
    "(15 Points)\n",
    "\n",
    "Implement the Naive Bayes algorithm.\n",
    "\n",
    "For calculating the likelihood use the EM algorithm that you implemented above to find the distribution params. With these params you can calculate the likelihood probability.\n",
    "\n",
    "Calculate the prior probability directly from the training set.\n",
    "\n",
    "Your class should contain the following functions:\n",
    "1. fit - the learning function\n",
    "1. predict - the function for predicting an instance (or instances) after the fit function was executed\n",
    "\n",
    "\\* You can add more functions if you think this is necessary\n"
   ]
  },
  {
   "cell_type": "code",
   "execution_count": null,
   "metadata": {
    "id": "dltToE8MT1DP"
   },
   "outputs": [],
   "source": [
    "class NaiveBayesGaussian(object):\n",
    "    \"\"\"\n",
    "    Naive Bayes Classifier using Gauusian Mixture Model (EM) for calculating the likelihood.\n",
    "\n",
    "    Parameters\n",
    "    ------------\n",
    "    k : int\n",
    "      Number of gaussians in each dimension\n",
    "    random_state : int\n",
    "      Random number generator seed for random params initialization.\n",
    "    \"\"\"\n",
    "    \n",
    "    def __init__(self, k=1):\n",
    "        self.k = k\n",
    "\n",
    "    def fit(self, X, y):\n",
    "        \"\"\" \n",
    "        Fit training data.\n",
    "\n",
    "        Parameters\n",
    "        ----------\n",
    "        X : array-like, shape = [n_examples, n_features]\n",
    "          Training vectors, where n_examples is the number of examples and\n",
    "          n_features is the number of features.\n",
    "        y : array-like, shape = [n_examples]\n",
    "          Target values.\n",
    "        \"\"\"\n",
    "        pass\n",
    "    \n",
    "    def predict(self, X):\n",
    "        \"\"\"Return the predicted class label\"\"\"\n",
    "        pass\n"
   ]
  },
  {
   "cell_type": "markdown",
   "metadata": {
    "id": "oGhvwz1qT1DP"
   },
   "source": [
    "## Model evaluation\n",
    "\n",
    "(20 points)\n",
    "\n",
    "In this section you will build 2 models and fit them to 2 datasets\n",
    "\n",
    "First 1000 training points and first 500 test points:\n",
    "1. Use the first 1000 points from the training set (take the first original 1000 points - before the shuffle) and the first 500 points from the test set.\n",
    "1. Fit Logistic Regression model with the best params you found earlier.\n",
    "1. Fit Naive Bayes model. Remember that you need to select the number of gaussians in the EM.\n",
    "1. Print the training and test accuracies for each model.\n",
    "1. Use the `plot_decision_regions` function to plot the decision boundaries for each model (for this you need to use the training set as the input)\n",
    "1. Plot the cost Vs the iteration number for the Logistic Regression model\n",
    "\n",
    "Use all the training set points:\n",
    "1. Repeat sections 2-6 for all the training set points\n",
    "1. Provide one or two sentences on each graph explaining what you observe in the graph.\n",
    "\n",
    "#### Don't forget to label your graphs ####"
   ]
  },
  {
   "cell_type": "code",
   "execution_count": null,
   "metadata": {
    "id": "A88D7GopT1DP"
   },
   "outputs": [],
   "source": [
    "#### Your code here ####"
   ]
  },
  {
   "cell_type": "markdown",
   "metadata": {
    "id": "MoJxJeubT1DP"
   },
   "source": [
    "## Open question\n",
    "\n",
    "(20 points) \n",
    "\n",
    "1. In this homework we explored two types of models: Naive Bayes using EM, and Logistic regression.  \n",
    "   1. Generate a dataset, in 3 dimensions (3 features), with 2 classes, using **only** Multivariate-Gaussians (as many as you want) that you think **Naive Bayes will work better than Logisitc Regression**.\n",
    "   2. Generate another dataset, in 3 dimensions (3 features), with 2 classes, using **only** Multivariate-Gaussians (as many as you want) that you think **Logistic Regression will work better than Naive Bayes**.\n",
    "   \n",
    "   - Explain the reasoning behind each dataset.  \n",
    "\n",
    "2. Visualize the datasets.  \n",
    "   You can choose one of two options for the visualization:\n",
    "    1. Plot three 2d graphs of all the features against each other (feature1 vs feature2, feature1 vs feature3, feature2 vs feature3).\n",
    "    2. Plot one 3d graph.\n",
    "\n",
    "**Important Note**  \n",
    "For this question only, you may use:  \n",
    "```\n",
    "from scipy.stats import multivariate_normal\n",
    "```"
   ]
  },
  {
   "cell_type": "markdown",
   "metadata": {
    "id": "ZCKKieBaT1DP"
   },
   "source": [
    "#### Your code and explanations here ####\n"
   ]
  },
  {
   "cell_type": "code",
   "execution_count": null,
   "metadata": {
    "id": "8UqnlC2ZT1DQ"
   },
   "outputs": [],
   "source": []
  }
 ],
 "metadata": {
  "colab": {
   "collapsed_sections": [],
   "name": "HW4.ipynb",
   "provenance": []
  },
  "kernelspec": {
   "display_name": "Python 3 (ipykernel)",
   "language": "python",
   "name": "python3"
  },
  "language_info": {
   "codemirror_mode": {
    "name": "ipython",
    "version": 3
   },
   "file_extension": ".py",
   "mimetype": "text/x-python",
   "name": "python",
   "nbconvert_exporter": "python",
   "pygments_lexer": "ipython3",
   "version": "3.9.7"
  }
 },
 "nbformat": 4,
 "nbformat_minor": 1
}
